{
 "cells": [
  {
   "cell_type": "code",
   "execution_count": 3,
   "metadata": {},
   "outputs": [
    {
     "name": "stdout",
     "output_type": "stream",
     "text": [
      "ChatCompletionMessage(content=\"I'm a AI, so fine and so bright,\\nHere to assist you, day or night.\\nMy rhyming skills are sharp as can be,\\nHelping with answers, just wait and see!\", role='assistant', function_call=None, tool_calls=None)\n"
     ]
    }
   ],
   "source": [
    "# [2024-04-19 08:13:57.511] [INFO] Received POST request to /v1/chat/completions with body: {\n",
    "#   \"messages\": [\n",
    "#     {\n",
    "#       \"role\": \"system\",\n",
    "#       \"content\": \"Always answer in rhymes.\"\n",
    "#     },\n",
    "#     {\n",
    "#       \"role\": \"user\",\n",
    "#       \"content\": \"Introduce yourself.\"\n",
    "#     }\n",
    "#   ],\n",
    "#   \"model\": \"lmstudio-community/Meta-Llama-3-8B-Instruct-GGUF\",\n",
    "#   \"temperature\": 0.7\n",
    "# }\n",
    "\n",
    "\n",
    "# Example: reuse your existing OpenAI setup\n",
    "from openai import OpenAI\n",
    "\n",
    "# Point to the local server\n",
    "client = OpenAI(base_url=\"http://localhost:1234/v1\", api_key=\"lm-studio\")\n",
    "\n",
    "completion = client.chat.completions.create(\n",
    "  model=\"lmstudio-community/Meta-Llama-3-8B-Instruct-GGUF\",\n",
    "  messages=[\n",
    "    {\"role\": \"system\", \"content\": \"Always answer in rhymes.\"},\n",
    "    {\"role\": \"user\", \"content\": \"Introduce yourself.\"}\n",
    "  ],\n",
    "  temperature=0.7,\n",
    ")\n",
    "\n",
    "print(completion.choices[0].message)\n",
    "\n",
    "# [2024-04-19 08:13:58.253] [INFO] [LM STUDIO SERVER] [lmstudio-community/Meta-Llama-3-8B-Instruct-GGUF/Meta-Llama-3-8B-Instruct-Q4_K_M.gguf] Generated prediction: {\n",
    "#   \"id\": \"chatcmpl-w33ntr8p34pn3c8ago9\",\n",
    "#   \"object\": \"chat.completion\",\n",
    "#   \"created\": 1713528837,\n",
    "#   \"model\": \"lmstudio-community/Meta-Llama-3-8B-Instruct-GGUF/Meta-Llama-3-8B-Instruct-Q4_K_M.gguf\",\n",
    "#   \"choices\": [\n",
    "#     {\n",
    "#       \"index\": 0,\n",
    "#       \"message\": {\n",
    "#         \"role\": \"assistant\",\n",
    "#         \"content\": \"I'm a AI, so fine and so bright,\\nHere to assist you, day or night.\\nMy rhyming skills are sharp as can be,\\nHelping with answers, just wait and see!\"\n",
    "#       },\n",
    "#       \"finish_reason\": \"stop\"\n",
    "#     }\n",
    "#   ],\n",
    "#   \"usage\": {\n",
    "#     \"prompt_tokens\": 42,\n",
    "#     \"completion_tokens\": 41,\n",
    "#     \"total_tokens\": 83\n",
    "#   }\n",
    "# }\n"
   ]
  }
 ],
 "metadata": {
  "kernelspec": {
   "display_name": "langchain3",
   "language": "python",
   "name": "python3"
  },
  "language_info": {
   "codemirror_mode": {
    "name": "ipython",
    "version": 3
   },
   "file_extension": ".py",
   "mimetype": "text/x-python",
   "name": "python",
   "nbconvert_exporter": "python",
   "pygments_lexer": "ipython3",
   "version": "3.11.8"
  }
 },
 "nbformat": 4,
 "nbformat_minor": 2
}
