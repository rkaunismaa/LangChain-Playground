{
 "cells": [
  {
   "cell_type": "markdown",
   "id": "a02dc872",
   "metadata": {},
   "source": [
    "#### Tuesday, April 23, 2024\n",
    "\n",
    "Continuing to experiment with various Llama 3 fine tunes.\n",
    "\n",
    "#### Friday, April 19, 2024\n",
    "\n",
    "mamba activate langchain3\n",
    "\n",
    "This fails on the tool usage stuff if we use a local model, and of course the OpenAI stuff just works ... \n",
    "\n",
    "Is there some way to get this to work with a local model?? Can we submit some additional parameters to get this to work??\n",
    "\n",
    "Hmm interesting ... just looked at the LM Studio community on discord and the message is \"🦙🦙🦙 Important: only Llama 3 GGUFs from \"lmstudio-community\" will work at the moment.\" ... "
   ]
  },
  {
   "cell_type": "code",
   "execution_count": 13,
   "id": "2cca5533",
   "metadata": {},
   "outputs": [
    {
     "name": "stdout",
     "output_type": "stream",
     "text": [
      "ChatCompletionMessage(content=\"I'm a bot with code so fine,\\nHere to assist and make your time shine.\\nMy name is AI, a friendly face,\\nHelping hands at your digital place.\\nI'll chat with you in rhyme, don't you fear,\\nAnd answer questions year by year.\\nSo let's have fun and play the game,\\nWith words that flow like poetry's fame!\", role='assistant', function_call=None, tool_calls=None)\n"
     ]
    }
   ],
   "source": [
    "# Will using this fix the problems we are having with tools??? ... lets try it, shall we!\n",
    "# Example: reuse your existing OpenAI setup\n",
    "from openai import OpenAI\n",
    "\n",
    "# Point to the local server\n",
    "client = OpenAI(base_url=\"http://localhost:1234/v1\", api_key=\"lm-studio\")\n",
    "\n",
    "completion = client.chat.completions.create(\n",
    "  model=\"lmstudio-community/Meta-Llama-3-8B-Instruct-GGUF\",\n",
    "  messages=[\n",
    "    {\"role\": \"system\", \"content\": \"Always answer in rhymes.\"},\n",
    "    {\"role\": \"user\", \"content\": \"Introduce yourself.\"}\n",
    "  ],\n",
    "  temperature=0.7,\n",
    ")\n",
    "\n",
    "print(completion.choices[0].message)"
   ]
  },
  {
   "cell_type": "code",
   "execution_count": 1,
   "id": "ee656129",
   "metadata": {},
   "outputs": [
    {
     "name": "stdout",
     "output_type": "stream",
     "text": [
      "ChatCompletionMessage(content=\"I'm AI, a chatbot so fine,\\nDesigned to assist and make conversations shine.\\nI'll answer your questions with rhyming flair,\\nAnd help you out with my linguistic care.\\nSo sit back and relax, I'm here to abide,\\nYour partner in chat, where words will reside!\", role='assistant', function_call=None, tool_calls=None)\n"
     ]
    }
   ],
   "source": [
    "# Example: reuse your existing OpenAI setup\n",
    "from openai import OpenAI\n",
    "\n",
    "# Point to the local server\n",
    "client = OpenAI(base_url=\"http://localhost:1234/v1\", api_key=\"lm-studio\")\n",
    "\n",
    "completion = client.chat.completions.create(\n",
    "  model=\"QuantFactory/Meta-Llama-3-8B-Instruct-GGUF\",\n",
    "  messages=[\n",
    "    {\"role\": \"system\", \"content\": \"Always answer in rhymes.\"},\n",
    "    {\"role\": \"user\", \"content\": \"Introduce yourself.\"}\n",
    "  ],\n",
    "  temperature=0.7,\n",
    ")\n",
    "\n",
    "print(completion.choices[0].message)"
   ]
  },
  {
   "cell_type": "code",
   "execution_count": 1,
   "id": "e1f38a74",
   "metadata": {},
   "outputs": [
    {
     "name": "stdout",
     "output_type": "stream",
     "text": [
      "ChatCompletionMessage(content=\"I'm a creative assistant, unique and bright,\\nReady to engage with your writing insights.\\n\\nLet's chat about poetry, oh so sweet,\\nSharing verses that rhyme, both light and neat.\", role='assistant', function_call=None, tool_calls=None)\n"
     ]
    }
   ],
   "source": [
    "# Example: reuse your existing OpenAI setup\n",
    "from openai import OpenAI\n",
    "\n",
    "# Point to the local server\n",
    "client = OpenAI(base_url=\"http://localhost:1234/v1\", api_key=\"lm-studio\")\n",
    "\n",
    "completion = client.chat.completions.create(\n",
    "  model=\"cognitivecomputations/dolphin-2.9-llama3-8b-gguf\",\n",
    "  messages=[\n",
    "    {\"role\": \"system\", \"content\": \"Always answer in rhymes.\"},\n",
    "    {\"role\": \"user\", \"content\": \"Introduce yourself.\"}\n",
    "  ],\n",
    "  temperature=0.7,\n",
    ")\n",
    "\n",
    "print(completion.choices[0].message)"
   ]
  },
  {
   "cell_type": "code",
   "execution_count": null,
   "id": "4ed8aa57",
   "metadata": {},
   "outputs": [],
   "source": [
    "# This notebook uses Tavily .... is the environment variable set?\n",
    "import os\n",
    "\n",
    "os.environ['TAVILY_API_KEY'] "
   ]
  },
  {
   "cell_type": "code",
   "execution_count": null,
   "id": "9d39edd9",
   "metadata": {},
   "outputs": [],
   "source": [
    "# we want to test against OpenAI, so yeah ...\n",
    "import os\n",
    "\n",
    "OPENAI_API_KEY_ = os.environ['OPENAI_API_KEY_'] \n",
    "os.environ['OPENAI_API_KEY'] = OPENAI_API_KEY_\n",
    "\n",
    "print(os.environ['OPENAI_API_KEY'] )\n"
   ]
  },
  {
   "cell_type": "markdown",
   "id": "78ec6921",
   "metadata": {},
   "source": [
    "# Agents\n",
    "\n",
    "This notebook covers basic functionality related to agents. For more in detail documentation, see:\n",
    "\n",
    "- [Agent Documentation](https://python.langchain.com/docs/modules/agents/)\n",
    "\n",
    "- [Agent Types](https://python.langchain.com/docs/modules/agents/agent_types/)"
   ]
  },
  {
   "cell_type": "code",
   "execution_count": 4,
   "id": "7b2421f4",
   "metadata": {},
   "outputs": [],
   "source": [
    "from langchain_community.tools.tavily_search import TavilySearchResults\n",
    "from langchain_openai import ChatOpenAI\n",
    "from langchain import hub\n",
    "from langchain.agents import create_openai_functions_agent\n",
    "from langchain.agents import AgentExecutor"
   ]
  },
  {
   "cell_type": "markdown",
   "id": "4d5efcf4",
   "metadata": {},
   "source": [
    "## Prompt"
   ]
  },
  {
   "cell_type": "code",
   "execution_count": 5,
   "id": "5992682a",
   "metadata": {},
   "outputs": [],
   "source": [
    "# Get the prompt to use - you can modify this!\n",
    "prompt = hub.pull(\"hwchase17/openai-functions-agent\")"
   ]
  },
  {
   "cell_type": "markdown",
   "id": "3716d768",
   "metadata": {},
   "source": [
    "## LLM\n",
    "\n",
    "Choose your model wisely! ..."
   ]
  },
  {
   "cell_type": "code",
   "execution_count": 6,
   "id": "f60c0f64",
   "metadata": {},
   "outputs": [],
   "source": [
    "llm = ChatOpenAI(model=\"gpt-3.5-turbo\", temperature=0)"
   ]
  },
  {
   "cell_type": "code",
   "execution_count": 6,
   "id": "30acf78d",
   "metadata": {},
   "outputs": [],
   "source": [
    "# llm = ChatOpenAI(model=\"gpt-3.5-turbo\", temperature=0)\n",
    "llm = ChatOpenAI(base_url=\"http://localhost:1234/v1\", api_key=\"lm-studio\")"
   ]
  },
  {
   "cell_type": "markdown",
   "id": "a3fd4cf9",
   "metadata": {},
   "source": [
    "## Tools"
   ]
  },
  {
   "cell_type": "code",
   "execution_count": 7,
   "id": "32a2c52f",
   "metadata": {},
   "outputs": [],
   "source": [
    "search = TavilySearchResults()\n",
    "tools = [search]"
   ]
  },
  {
   "cell_type": "markdown",
   "id": "7daee658",
   "metadata": {},
   "source": [
    "## Agent"
   ]
  },
  {
   "cell_type": "code",
   "execution_count": 8,
   "id": "b6152ad4",
   "metadata": {},
   "outputs": [],
   "source": [
    "agent = create_openai_functions_agent(llm, tools, prompt)"
   ]
  },
  {
   "cell_type": "code",
   "execution_count": 9,
   "id": "df123904",
   "metadata": {},
   "outputs": [],
   "source": [
    "# we run this same command against OpenAI and any local model ...\n",
    "result = agent.invoke({\"input\": \"what's the weather in SF?\", \"intermediate_steps\": []})"
   ]
  },
  {
   "cell_type": "code",
   "execution_count": 12,
   "id": "00574227",
   "metadata": {},
   "outputs": [
    {
     "data": {
      "text/plain": [
       "AgentActionMessageLog(tool='tavily_search_results_json', tool_input={'query': 'weather in San Francisco'}, log=\"\\nInvoking: `tavily_search_results_json` with `{'query': 'weather in San Francisco'}`\\n\\n\\n\", message_log=[AIMessage(content='', additional_kwargs={'function_call': {'arguments': '{\"query\":\"weather in San Francisco\"}', 'name': 'tavily_search_results_json'}}, response_metadata={'token_usage': {'completion_tokens': 21, 'prompt_tokens': 94, 'total_tokens': 115}, 'model_name': 'gpt-3.5-turbo', 'system_fingerprint': 'fp_d9767fc5b9', 'finish_reason': 'function_call', 'logprobs': None}, id='run-a34361db-b5eb-4203-a4f5-186a94b7bc93-0')])"
      ]
     },
     "execution_count": 12,
     "metadata": {},
     "output_type": "execute_result"
    }
   ],
   "source": [
    "# calling OpenAI ... notice it is wayyy different than from the local model!\n",
    "result"
   ]
  },
  {
   "cell_type": "code",
   "execution_count": 11,
   "id": "d802d37a",
   "metadata": {},
   "outputs": [
    {
     "data": {
      "text/plain": [
       "AgentFinish(return_values={'output': \"According to my latest updates, San Francisco (SFO) is currently experiencing:\\n\\n**Partly Cloudy Skies**\\nTemperature: 58°F (14°C)\\nHumidity: 64%\\nWind Speed: 7 mph (11 km/h)\\n\\nPlease note that this information may be subject to change and might not reflect the current weather conditions. If you'd like a more accurate update, I can try to fetch the latest data for you!\"}, log=\"According to my latest updates, San Francisco (SFO) is currently experiencing:\\n\\n**Partly Cloudy Skies**\\nTemperature: 58°F (14°C)\\nHumidity: 64%\\nWind Speed: 7 mph (11 km/h)\\n\\nPlease note that this information may be subject to change and might not reflect the current weather conditions. If you'd like a more accurate update, I can try to fetch the latest data for you!\")"
      ]
     },
     "execution_count": 11,
     "metadata": {},
     "output_type": "execute_result"
    }
   ],
   "source": [
    "# calling local model \"QuantFactory/Meta-Llama-3-8B-Instruct-GGUF\"\n",
    "\n",
    "# What was sent ...\n",
    "# [2024-04-19 12:18:11.653] [INFO] Received POST request to /v1/chat/completions with body: {\n",
    "#   \"messages\": [\n",
    "#     {\n",
    "#       \"role\": \"system\",\n",
    "#       \"content\": \"You are a helpful assistant\"\n",
    "#     },\n",
    "#     {\n",
    "#       \"role\": \"user\",\n",
    "#       \"content\": \"what's the weather in SF?\"\n",
    "#     }\n",
    "#   ],\n",
    "#   \"model\": \"gpt-3.5-turbo\",\n",
    "#   \"functions\": [\n",
    "#     {\n",
    "#       \"name\": \"tavily_search_results_json\",\n",
    "#       \"description\": \"A search engine optimized for comprehensive, accurate, and trusted results. Useful for when you need to answer questions about current events. Input should be a search query.\",\n",
    "#       \"parameters\": {\n",
    "#         \"type\": \"object\",\n",
    "#         \"properties\": {\n",
    "#           \"query\": {\n",
    "#             \"description\": \"search query to look up\",\n",
    "#             \"type\": \"string\"\n",
    "#           }\n",
    "#         },\n",
    "#         \"required\": [\n",
    "#           \"query\"\n",
    "#         ]\n",
    "#       }\n",
    "#     }\n",
    "#   ],\n",
    "#   \"n\": 1,\n",
    "#   \"stream\": false,\n",
    "#   \"temperature\": 0.7\n",
    "# }\n",
    "\n",
    "result\n",
    "\n",
    "# ... and what got returned ... notice there is no 'tool key ...\n",
    "\n",
    "# [2024-04-19 12:18:15.481] [INFO] [LM STUDIO SERVER] [QuantFactory/Meta-Llama-3-8B-Instruct-GGUF/Meta-Llama-3-8B-Instruct.Q8_0.gguf] Generated prediction: {\n",
    "#   \"id\": \"chatcmpl-1186h7wjyjpovdahnaoazbh\",\n",
    "#   \"object\": \"chat.completion\",\n",
    "#   \"created\": 1713543491,\n",
    "#   \"model\": \"QuantFactory/Meta-Llama-3-8B-Instruct-GGUF/Meta-Llama-3-8B-Instruct.Q8_0.gguf\",\n",
    "#   \"choices\": [\n",
    "#     {\n",
    "#       \"index\": 0,\n",
    "#       \"message\": {\n",
    "#         \"role\": \"assistant\",\n",
    "#         \"content\": \"San Francisco is known for its foggy and cool climate, especially during the summer months. But since I'm a virtual AI assistant, I don't have real-time access to current weather conditions.\\n\\nHowever, I can suggest some ways for you to check the current weather in San Francisco:\\n\\n1. Check online: You can visit websites like AccuWeather, Weather.com, or the National Weather Service (NWS) to get the latest weather forecast and conditions.\\n2. Use a weather app: Download a reliable weather app on your smartphone, such as Dark Sky or Weather Underground, which can provide you with real-time updates and forecasts.\\n3. Tune into local news: Watch local news channels like ABC7 News or CBS5 News San Francisco to get the latest weather updates and forecasts.\\n\\nRemember to check the current time in San Francisco (which is Pacific Standard Time) when checking the weather forecast, as it might be different from your location!\"\n",
    "#       },\n",
    "#       \"finish_reason\": \"stop\"\n",
    "#     }\n",
    "#   ],\n",
    "#   \"usage\": {\n",
    "#     \"prompt_tokens\": 189,\n",
    "#     \"completion_tokens\": 188,\n",
    "#     \"total_tokens\": 377\n",
    "#   }\n",
    "# }\n"
   ]
  },
  {
   "cell_type": "code",
   "execution_count": 22,
   "id": "73ef54a3",
   "metadata": {},
   "outputs": [
    {
     "data": {
      "text/plain": [
       "AgentFinish(return_values={'output': \"According to current weather reports, San Francisco is experiencing:\\n\\n**Current Weather:** Partly Cloudy\\n\\n**Temperature:** 62°F (17°C)\\n\\n**Precipitation:** Light Rain Showers possible\\n\\n**Wind:** Gentle breeze of about 5 mph (8 km/h) from the West\\n\\nPlease note that weather conditions can change rapidly in SF, so it's always a good idea to check with reliable sources like AccuWeather or the National Weather Service for the most up-to-date information before planning your day.\\n\\nWould you like me to help with anything else?\"}, log=\"According to current weather reports, San Francisco is experiencing:\\n\\n**Current Weather:** Partly Cloudy\\n\\n**Temperature:** 62°F (17°C)\\n\\n**Precipitation:** Light Rain Showers possible\\n\\n**Wind:** Gentle breeze of about 5 mph (8 km/h) from the West\\n\\nPlease note that weather conditions can change rapidly in SF, so it's always a good idea to check with reliable sources like AccuWeather or the National Weather Service for the most up-to-date information before planning your day.\\n\\nWould you like me to help with anything else?\")"
      ]
     },
     "execution_count": 22,
     "metadata": {},
     "output_type": "execute_result"
    }
   ],
   "source": [
    "# calling local model \"lmstudio-community/Meta-Llama-3-8B-Instruct-GGUF\",\n",
    "\n",
    "# What was sent ... \n",
    "\n",
    "# [2024-04-19 12:35:11.356] [INFO] Received POST request to /v1/chat/completions with body: {\n",
    "#   \"messages\": [\n",
    "#     {\n",
    "#       \"role\": \"system\",\n",
    "#       \"content\": \"You are a helpful assistant\"\n",
    "#     },\n",
    "#     {\n",
    "#       \"role\": \"user\",\n",
    "#       \"content\": \"what's the weather in SF?\"\n",
    "#     }\n",
    "#   ],\n",
    "#   \"model\": \"gpt-3.5-turbo\",\n",
    "#   \"functions\": [\n",
    "#     {\n",
    "#       \"name\": \"tavily_search_results_json\",\n",
    "#       \"description\": \"A search engine optimized for comprehensive, accurate, and trusted results. Useful for when you need to answer questions about current events. Input should be a search query.\",\n",
    "#       \"parameters\": {\n",
    "#         \"type\": \"object\",\n",
    "#         \"properties\": {\n",
    "#           \"query\": {\n",
    "#             \"description\": \"search query to look up\",\n",
    "#             \"type\": \"string\"\n",
    "#           }\n",
    "#         },\n",
    "#         \"required\": [\n",
    "#           \"query\"\n",
    "#         ]\n",
    "#       }\n",
    "#     }\n",
    "#   ],\n",
    "#   \"n\": 1,\n",
    "#   \"stream\": false,\n",
    "#   \"temperature\": 0.7\n",
    "# }\n",
    "\n",
    "\n",
    "result\n",
    "\n",
    "# what was returned ...\n",
    "\n",
    "# [2024-04-19 12:35:13.198] [INFO] [LM STUDIO SERVER] [lmstudio-community/Meta-Llama-3-8B-Instruct-GGUF/Meta-Llama-3-8B-Instruct-Q4_K_M.gguf] Generated prediction: {\n",
    "#   \"id\": \"chatcmpl-ll2ssltqmegwbebjvslih\",\n",
    "#   \"object\": \"chat.completion\",\n",
    "#   \"created\": 1713544511,\n",
    "#   \"model\": \"lmstudio-community/Meta-Llama-3-8B-Instruct-GGUF/Meta-Llama-3-8B-Instruct-Q4_K_M.gguf\",\n",
    "#   \"choices\": [\n",
    "#     {\n",
    "#       \"index\": 0,\n",
    "#       \"message\": {\n",
    "#         \"role\": \"assistant\",\n",
    "#         \"content\": \"As of now, the current weather conditions in San Francisco (SF) are:\\n\\n* Temperature: 64°F (18°C)\\n* Humidity: 59%\\n* Cloud Cover: 70%\\n* Wind Speed: 7 mph (11 km/h)\\n\\nPlease note that these conditions are subject to change and may not be up-to-date. If you'd like the latest weather information, I recommend checking a reliable weather source such as AccuWeather or the National Weather Service for more accurate and current forecasts!\"\n",
    "#       },\n",
    "#       \"finish_reason\": \"stop\"\n",
    "#     }\n",
    "#   ],\n",
    "#   \"usage\": {\n",
    "#     \"prompt_tokens\": 103,\n",
    "#     \"completion_tokens\": 102,\n",
    "#     \"total_tokens\": 205\n",
    "#   }\n",
    "# }"
   ]
  },
  {
   "cell_type": "code",
   "execution_count": 10,
   "id": "a187856b",
   "metadata": {},
   "outputs": [
    {
     "data": {
      "text/plain": [
       "AgentFinish(return_values={'output': \"I don't have real-time access to current weather data. However, you can check the current weather in San Francisco using any reliable weather website or app.\\n\\n\"}, log=\"I don't have real-time access to current weather data. However, you can check the current weather in San Francisco using any reliable weather website or app.\\n\\n\")"
      ]
     },
     "execution_count": 10,
     "metadata": {},
     "output_type": "execute_result"
    }
   ],
   "source": [
    "# calling \"cognitivecomputations/dolphin-2.9-llama3-8b-gguf\"\n",
    "\n",
    "# [2024-04-23 07:48:04.327] [INFO] Received POST request to /v1/chat/completions with body: {\n",
    "#   \"messages\": [\n",
    "#     {\n",
    "#       \"role\": \"system\",\n",
    "#       \"content\": \"You are a helpful assistant\"\n",
    "#     },\n",
    "#     {\n",
    "#       \"role\": \"user\",\n",
    "#       \"content\": \"what's the weather in SF?\"\n",
    "#     }\n",
    "#   ],\n",
    "#   \"model\": \"gpt-3.5-turbo\",\n",
    "#   \"functions\": [\n",
    "#     {\n",
    "#       \"name\": \"tavily_search_results_json\",\n",
    "#       \"description\": \"A search engine optimized for comprehensive, accurate, and trusted results. Useful for when you need to answer questions about current events. Input should be a search query.\",\n",
    "#       \"parameters\": {\n",
    "#         \"type\": \"object\",\n",
    "#         \"properties\": {\n",
    "#           \"query\": {\n",
    "#             \"description\": \"search query to look up\",\n",
    "#             \"type\": \"string\"\n",
    "#           }\n",
    "#         },\n",
    "#         \"required\": [\n",
    "#           \"query\"\n",
    "#         ]\n",
    "#       }\n",
    "#     }\n",
    "#   ],\n",
    "#   \"n\": 1,\n",
    "#   \"stream\": false,\n",
    "#   \"temperature\": 0.7\n",
    "# }\n",
    "\n",
    "\n",
    "result\n",
    "\n",
    "# [2024-04-23 07:48:05.003] [INFO] [LM STUDIO SERVER] [cognitivecomputations/dolphin-2.9-llama3-8b-gguf/dolphin-2.9-llama3-8b-q8_0.gguf] Generated prediction: {\n",
    "#   \"id\": \"chatcmpl-pick7zpqtaosmh5ozufph\",\n",
    "#   \"object\": \"chat.completion\",\n",
    "#   \"created\": 1713872884,\n",
    "#   \"model\": \"cognitivecomputations/dolphin-2.9-llama3-8b-gguf/dolphin-2.9-llama3-8b-q8_0.gguf\",\n",
    "#   \"choices\": [\n",
    "#     {\n",
    "#       \"index\": 0,\n",
    "#       \"message\": {\n",
    "#         \"role\": \"assistant\",\n",
    "#         \"content\": \"I don't have real-time access to current weather data. However, you can check the current weather in San Francisco using any reliable weather website or app.\\n\\n\"\n",
    "#       },\n",
    "#       \"finish_reason\": \"stop\"\n",
    "#     }\n",
    "#   ],\n",
    "#   \"usage\": {\n",
    "#     \"prompt_tokens\": 31,\n",
    "#     \"completion_tokens\": 31,\n",
    "#     \"total_tokens\": 62\n",
    "#   }\n",
    "# }\n"
   ]
  },
  {
   "cell_type": "markdown",
   "id": "5f50a5b1",
   "metadata": {},
   "source": [
    "Running the above cell against a local model DOES run without errors!"
   ]
  },
  {
   "cell_type": "code",
   "execution_count": 18,
   "id": "d9479f9e",
   "metadata": {},
   "outputs": [
    {
     "data": {
      "text/plain": [
       "'tavily_search_results_json'"
      ]
     },
     "execution_count": 18,
     "metadata": {},
     "output_type": "execute_result"
    }
   ],
   "source": [
    "# results if we use OpenAI\n",
    "result.tool"
   ]
  },
  {
   "cell_type": "code",
   "execution_count": 9,
   "id": "fbf7ceb5",
   "metadata": {},
   "outputs": [
    {
     "ename": "AttributeError",
     "evalue": "'AgentFinish' object has no attribute 'tool'",
     "output_type": "error",
     "traceback": [
      "\u001b[0;31m---------------------------------------------------------------------------\u001b[0m",
      "\u001b[0;31mAttributeError\u001b[0m                            Traceback (most recent call last)",
      "Cell \u001b[0;32mIn[9], line 1\u001b[0m\n\u001b[0;32m----> 1\u001b[0m \u001b[43mresult\u001b[49m\u001b[38;5;241;43m.\u001b[39;49m\u001b[43mtool\u001b[49m\n",
      "\u001b[0;31mAttributeError\u001b[0m: 'AgentFinish' object has no attribute 'tool'"
     ]
    }
   ],
   "source": [
    "# If we run this against a local model, we get this ...\n",
    "result.tool"
   ]
  },
  {
   "cell_type": "code",
   "execution_count": 19,
   "id": "ee380cf3",
   "metadata": {},
   "outputs": [
    {
     "data": {
      "text/plain": [
       "{'query': 'weather in San Francisco'}"
      ]
     },
     "execution_count": 19,
     "metadata": {},
     "output_type": "execute_result"
    }
   ],
   "source": [
    "# OpenAI results ... \n",
    "result.tool_input"
   ]
  },
  {
   "cell_type": "code",
   "execution_count": 20,
   "id": "55f14f30",
   "metadata": {},
   "outputs": [
    {
     "data": {
      "text/plain": [
       "AgentActionMessageLog(tool='tavily_search_results_json', tool_input={'query': 'weather in San Francisco'}, log=\"\\nInvoking: `tavily_search_results_json` with `{'query': 'weather in San Francisco'}`\\n\\n\\n\", message_log=[AIMessage(content='', additional_kwargs={'function_call': {'arguments': '{\"query\":\"weather in San Francisco\"}', 'name': 'tavily_search_results_json'}}, response_metadata={'token_usage': {'completion_tokens': 21, 'prompt_tokens': 94, 'total_tokens': 115}, 'model_name': 'gpt-3.5-turbo', 'system_fingerprint': 'fp_d9767fc5b9', 'finish_reason': 'function_call', 'logprobs': None}, id='run-4b24d448-b771-4e82-a55c-683ed31600b6-0')])"
      ]
     },
     "execution_count": 20,
     "metadata": {},
     "output_type": "execute_result"
    }
   ],
   "source": [
    "# OpenAI results ... \n",
    "result"
   ]
  },
  {
   "cell_type": "markdown",
   "id": "87a3993e",
   "metadata": {},
   "source": [
    "## Agent Executor"
   ]
  },
  {
   "cell_type": "code",
   "execution_count": 21,
   "id": "2eef3db8",
   "metadata": {},
   "outputs": [],
   "source": [
    "agent_executor = AgentExecutor(agent=agent, tools=tools)"
   ]
  },
  {
   "cell_type": "code",
   "execution_count": 22,
   "id": "a6c08822",
   "metadata": {},
   "outputs": [
    {
     "data": {
      "text/plain": [
       "{'input': 'what is the weather in sf?',\n",
       " 'output': 'The current weather in San Francisco is overcast with a temperature of 53.1°F (11.7°C). The wind speed is 6.8 kph coming from the northwest direction. The humidity is at 93%, and there is no precipitation at the moment.'}"
      ]
     },
     "execution_count": 22,
     "metadata": {},
     "output_type": "execute_result"
    }
   ],
   "source": [
    "# OpenAI result ... \n",
    "agent_executor.invoke({\"input\": \"what is the weather in sf?\"})"
   ]
  },
  {
   "cell_type": "markdown",
   "id": "4e8ca119",
   "metadata": {},
   "source": [
    "## Streaming"
   ]
  },
  {
   "cell_type": "code",
   "execution_count": 23,
   "id": "e9b9dd6e",
   "metadata": {},
   "outputs": [
    {
     "name": "stdout",
     "output_type": "stream",
     "text": [
      "{'actions': [AgentActionMessageLog(tool='tavily_search_results_json', tool_input={'query': 'weather in San Francisco'}, log=\"\\nInvoking: `tavily_search_results_json` with `{'query': 'weather in San Francisco'}`\\n\\n\\n\", message_log=[AIMessageChunk(content='', additional_kwargs={'function_call': {'arguments': '{\"query\":\"weather in San Francisco\"}', 'name': 'tavily_search_results_json'}}, response_metadata={'finish_reason': 'function_call'}, id='run-13098ba7-7b3a-479d-b0e1-f53da083a9f3')])], 'messages': [AIMessageChunk(content='', additional_kwargs={'function_call': {'arguments': '{\"query\":\"weather in San Francisco\"}', 'name': 'tavily_search_results_json'}}, response_metadata={'finish_reason': 'function_call'}, id='run-13098ba7-7b3a-479d-b0e1-f53da083a9f3')]}\n",
      "{'steps': [AgentStep(action=AgentActionMessageLog(tool='tavily_search_results_json', tool_input={'query': 'weather in San Francisco'}, log=\"\\nInvoking: `tavily_search_results_json` with `{'query': 'weather in San Francisco'}`\\n\\n\\n\", message_log=[AIMessageChunk(content='', additional_kwargs={'function_call': {'arguments': '{\"query\":\"weather in San Francisco\"}', 'name': 'tavily_search_results_json'}}, response_metadata={'finish_reason': 'function_call'}, id='run-13098ba7-7b3a-479d-b0e1-f53da083a9f3')]), observation=[{'url': 'https://www.weatherapi.com/', 'content': \"{'location': {'name': 'San Francisco', 'region': 'California', 'country': 'United States of America', 'lat': 37.78, 'lon': -122.42, 'tz_id': 'America/Los_Angeles', 'localtime_epoch': 1713542985, 'localtime': '2024-04-19 9:09'}, 'current': {'last_updated_epoch': 1713542400, 'last_updated': '2024-04-19 09:00', 'temp_c': 11.7, 'temp_f': 53.1, 'is_day': 1, 'condition': {'text': 'Overcast', 'icon': '//cdn.weatherapi.com/weather/64x64/day/122.png', 'code': 1009}, 'wind_mph': 4.3, 'wind_kph': 6.8, 'wind_degree': 320, 'wind_dir': 'NW', 'pressure_mb': 1016.0, 'pressure_in': 30.0, 'precip_mm': 0.0, 'precip_in': 0.0, 'humidity': 93, 'cloud': 100, 'feelslike_c': 11.0, 'feelslike_f': 51.8, 'vis_km': 16.0, 'vis_miles': 9.0, 'uv': 4.0, 'gust_mph': 6.3, 'gust_kph': 10.1}}\"}, {'url': 'https://forecast.weather.gov/zipcity.php?inputstring=San francisco,CA', 'content': 'San Francisco CA 37.77°N 122.41°W (Elev. 131 ft) Last Update: 1:25 am PDT Apr 18, 2024. Forecast Valid: 6am PDT Apr 18, 2024-6pm PDT Apr 24, 2024 . Forecast Discussion . Additional Resources. Radar & Satellite Image. Hourly Weather Forecast. ... Severe Weather ; Current Outlook Maps ; Drought ; Fire Weather ; Fronts/Precipitation Maps ...'}, {'url': 'https://world-weather.info/forecast/usa/san_francisco/april-2024/', 'content': 'Extended weather forecast in San Francisco. Hourly Week 10 days 14 days 30 days Year. Detailed ⚡ San Francisco Weather Forecast for April 2024 - day/night 🌡️ temperatures, precipitations - World-Weather.info.'}, {'url': 'https://www.timeanddate.com/weather/usa/san-francisco/hourly', 'content': 'Hour-by-Hour Forecast for San Francisco, California, USA. Weather Today Weather Hourly 14 Day Forecast Yesterday/Past Weather Climate (Averages) Currently: 54 °F. Passing clouds. (Weather station: San Francisco International Airport, USA). See more current weather.'}, {'url': 'https://www.weathertab.com/en/c/e/04/united-states/california/san-francisco/', 'content': 'Explore comprehensive April 2024 weather forecasts for San Francisco, including daily high and low temperatures, precipitation risks, and monthly temperature trends. Featuring detailed day-by-day forecasts, dynamic graphs of daily rain probabilities, and temperature trends to help you plan ahead. ... 19 65°F 49°F 18°C 9°C 08% 20 64°F 49°F ...'}])], 'messages': [FunctionMessage(content='[{\"url\": \"https://www.weatherapi.com/\", \"content\": \"{\\'location\\': {\\'name\\': \\'San Francisco\\', \\'region\\': \\'California\\', \\'country\\': \\'United States of America\\', \\'lat\\': 37.78, \\'lon\\': -122.42, \\'tz_id\\': \\'America/Los_Angeles\\', \\'localtime_epoch\\': 1713542985, \\'localtime\\': \\'2024-04-19 9:09\\'}, \\'current\\': {\\'last_updated_epoch\\': 1713542400, \\'last_updated\\': \\'2024-04-19 09:00\\', \\'temp_c\\': 11.7, \\'temp_f\\': 53.1, \\'is_day\\': 1, \\'condition\\': {\\'text\\': \\'Overcast\\', \\'icon\\': \\'//cdn.weatherapi.com/weather/64x64/day/122.png\\', \\'code\\': 1009}, \\'wind_mph\\': 4.3, \\'wind_kph\\': 6.8, \\'wind_degree\\': 320, \\'wind_dir\\': \\'NW\\', \\'pressure_mb\\': 1016.0, \\'pressure_in\\': 30.0, \\'precip_mm\\': 0.0, \\'precip_in\\': 0.0, \\'humidity\\': 93, \\'cloud\\': 100, \\'feelslike_c\\': 11.0, \\'feelslike_f\\': 51.8, \\'vis_km\\': 16.0, \\'vis_miles\\': 9.0, \\'uv\\': 4.0, \\'gust_mph\\': 6.3, \\'gust_kph\\': 10.1}}\"}, {\"url\": \"https://forecast.weather.gov/zipcity.php?inputstring=San francisco,CA\", \"content\": \"San Francisco CA 37.77°N 122.41°W (Elev. 131 ft) Last Update: 1:25 am PDT Apr 18, 2024. Forecast Valid: 6am PDT Apr 18, 2024-6pm PDT Apr 24, 2024 . Forecast Discussion . Additional Resources. Radar & Satellite Image. Hourly Weather Forecast. ... Severe Weather ; Current Outlook Maps ; Drought ; Fire Weather ; Fronts/Precipitation Maps ...\"}, {\"url\": \"https://world-weather.info/forecast/usa/san_francisco/april-2024/\", \"content\": \"Extended weather forecast in San Francisco. Hourly Week 10 days 14 days 30 days Year. Detailed ⚡ San Francisco Weather Forecast for April 2024 - day/night 🌡️ temperatures, precipitations - World-Weather.info.\"}, {\"url\": \"https://www.timeanddate.com/weather/usa/san-francisco/hourly\", \"content\": \"Hour-by-Hour Forecast for San Francisco, California, USA. Weather Today Weather Hourly 14 Day Forecast Yesterday/Past Weather Climate (Averages) Currently: 54 °F. Passing clouds. (Weather station: San Francisco International Airport, USA). See more current weather.\"}, {\"url\": \"https://www.weathertab.com/en/c/e/04/united-states/california/san-francisco/\", \"content\": \"Explore comprehensive April 2024 weather forecasts for San Francisco, including daily high and low temperatures, precipitation risks, and monthly temperature trends. Featuring detailed day-by-day forecasts, dynamic graphs of daily rain probabilities, and temperature trends to help you plan ahead. ... 19 65°F 49°F 18°C 9°C 08% 20 64°F 49°F ...\"}]', name='tavily_search_results_json')]}\n",
      "{'output': 'The current weather in San Francisco is overcast with a temperature of 53.1°F (11.7°C). The wind speed is 4.3 mph (6.8 kph) coming from the northwest direction. The humidity is at 93%, and the visibility is 9.0 miles.', 'messages': [AIMessage(content='The current weather in San Francisco is overcast with a temperature of 53.1°F (11.7°C). The wind speed is 4.3 mph (6.8 kph) coming from the northwest direction. The humidity is at 93%, and the visibility is 9.0 miles.')]}\n"
     ]
    }
   ],
   "source": [
    "# OpenAI results ...\n",
    "for step in agent_executor.stream({\"input\": \"what is the weather in sf?\"}):\n",
    "    print(step)"
   ]
  },
  {
   "cell_type": "code",
   "execution_count": null,
   "id": "ba35f057",
   "metadata": {},
   "outputs": [],
   "source": []
  }
 ],
 "metadata": {
  "kernelspec": {
   "display_name": "Python 3 (ipykernel)",
   "language": "python",
   "name": "python3"
  },
  "language_info": {
   "codemirror_mode": {
    "name": "ipython",
    "version": 3
   },
   "file_extension": ".py",
   "mimetype": "text/x-python",
   "name": "python",
   "nbconvert_exporter": "python",
   "pygments_lexer": "ipython3",
   "version": "3.11.8"
  }
 },
 "nbformat": 4,
 "nbformat_minor": 5
}
