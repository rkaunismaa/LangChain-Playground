{
 "cells": [
  {
   "cell_type": "markdown",
   "metadata": {},
   "source": [
    "#### Monday, November 4, 2024\n",
    "\n",
    "mamba activate langchain\n",
    "\n",
    "[Build an Agent](https://python.langchain.com/docs/tutorials/agents/)\n",
    "\n",
    "The sample code uses Anthropic. To use it requires a paid plan, which is not by tokens but a monthly cost. So yeah, I am not gonna sign up for Anthropic because I think I will rarely use it, so I am going to switch to OpenAI in this code. \n"
   ]
  },
  {
   "cell_type": "code",
   "execution_count": null,
   "metadata": {},
   "outputs": [],
   "source": [
    "import os\n",
    "\n",
    "print(os.environ[\"LANGCHAIN_TRACING_V2\"])\n",
    "print(os.environ[\"LANGCHAIN_API_KEY\"])\n",
    "print(os.environ[\"OPENAI_API_KEY\"])\n",
    "print(os.environ[\"TAVILY_API_KEY\"])\n",
    "print(os.environ[\"ANTHROPIC_API_KEY\"])"
   ]
  },
  {
   "cell_type": "markdown",
   "metadata": {},
   "source": [
    "#### End-to-end agent"
   ]
  },
  {
   "cell_type": "code",
   "execution_count": 2,
   "metadata": {},
   "outputs": [],
   "source": [
    "# Import relevant functionality\n",
    "from langchain_anthropic import ChatAnthropic\n",
    "from langchain_community.tools.tavily_search import TavilySearchResults\n",
    "from langchain_core.messages import HumanMessage\n",
    "from langgraph.checkpoint.memory import MemorySaver\n",
    "from langgraph.prebuilt import create_react_agent"
   ]
  },
  {
   "cell_type": "code",
   "execution_count": 3,
   "metadata": {},
   "outputs": [],
   "source": [
    "# Create the agent\n",
    "memory = MemorySaver()\n",
    "\n",
    "# just say no to Anthropic kids ... \n",
    "# model = ChatAnthropic(model_name=\"claude-3-sonnet-20240229\")\n",
    "from langchain_openai import ChatOpenAI\n",
    "model = ChatOpenAI(model=\"gpt-3.5-turbo\")\n",
    "\n",
    "search = TavilySearchResults(max_results=2)\n",
    "tools = [search]\n",
    "agent_executor = create_react_agent(model, tools, checkpointer=memory)"
   ]
  },
  {
   "cell_type": "code",
   "execution_count": 4,
   "metadata": {},
   "outputs": [
    {
     "name": "stdout",
     "output_type": "stream",
     "text": [
      "{'agent': {'messages': [AIMessage(content=\"Hello Bob! It's nice to meet you. How can I assist you today?\", additional_kwargs={'refusal': None}, response_metadata={'token_usage': {'completion_tokens': 18, 'prompt_tokens': 90, 'total_tokens': 108, 'completion_tokens_details': {'audio_tokens': None, 'reasoning_tokens': 0}, 'prompt_tokens_details': {'audio_tokens': None, 'cached_tokens': 0}}, 'model_name': 'gpt-3.5-turbo-0125', 'system_fingerprint': None, 'finish_reason': 'stop', 'logprobs': None}, id='run-b6c06c46-27d5-4c53-8a4a-3e8c5c6991e1-0', usage_metadata={'input_tokens': 90, 'output_tokens': 18, 'total_tokens': 108})]}}\n",
      "----\n",
      "{'agent': {'messages': [AIMessage(content='', additional_kwargs={'tool_calls': [{'id': 'call_36MHge9EDLhFd9aVrp6HhLVN', 'function': {'arguments': '{\"query\":\"weather in San Francisco\"}', 'name': 'tavily_search_results_json'}, 'type': 'function'}], 'refusal': None}, response_metadata={'token_usage': {'completion_tokens': 21, 'prompt_tokens': 123, 'total_tokens': 144, 'completion_tokens_details': {'audio_tokens': None, 'reasoning_tokens': 0}, 'prompt_tokens_details': {'audio_tokens': None, 'cached_tokens': 0}}, 'model_name': 'gpt-3.5-turbo-0125', 'system_fingerprint': None, 'finish_reason': 'tool_calls', 'logprobs': None}, id='run-78fbe032-6153-43d4-9893-e9f7e9eb2c94-0', tool_calls=[{'name': 'tavily_search_results_json', 'args': {'query': 'weather in San Francisco'}, 'id': 'call_36MHge9EDLhFd9aVrp6HhLVN', 'type': 'tool_call'}], usage_metadata={'input_tokens': 123, 'output_tokens': 21, 'total_tokens': 144})]}}\n",
      "----\n",
      "{'tools': {'messages': [ToolMessage(content='[{\"url\": \"https://www.weather.gov/mtr/?os=os/&ref=app\", \"content\": \"FORECAST Severe Weather Fire Weather Space Weather PAST WEATHER Past Weather Space Weather Winter Weather Weather-Ready Nation Forecast Models NWS News NWS Media Contacts Local forecast by Weather Forecast Office NWS Forecast Office San Francisco, CA Weather.gov > San Francisco Bay Area, CA Graphical Hazardous Weather Outlook Fire Weather Snooper Forecasts Aviation Weather Severe Weather Fire Weather Winter Weather Forecast Models Probabilistic Weather Forecast Local River Observations (Map) Weather Ready Nation Winter Weather Advisory Chilly conditions are forecast temperatures through 10pm forecast to drop into the 50s and 60s. Visit weather.gov and type in your city or zip for details! Weather Map Local Graphical Forecast U.S. Graphical Forecasts Forecast Weather Tables Fire Weather National Weather Service\"}, {\"url\": \"https://forecast.weather.gov/zipcity.php?inputstring=San+francisco,CA\", \"content\": \"FORECAST Fire Weather Sun (Ultraviolet Radiation) NWS Education Home NWS News Search For  NWS  All NOAA About NWS Your local forecast office is Local Forecast OfficeMore Local Wx3 Day HistoryHourly Weather Forecast High: 69 °F Monday Night High: 68 °F High: 74 °F High: 76 °F Monday Night Additional Forecasts and Information Zone Area Forecast for San Francisco County, CA Hourly Weather Forecast Air Quality Forecasts Forecast Weather Table Interface ABOUT THIS FORECAST Radar & Satellite Image Hourly Weather Forecast Winter Weather Forecasts Fire Weather Outlooks PAST WEATHER Toggle menu FORECAST Toggle menu Local Forecast International Forecasts Fire Weather Current Graphical Forecast Maps Aviation Weather Fire Weather International Weather WEATHER SAFETY Toggle menu NWS Education Home National Weather Service\"}]', name='tavily_search_results_json', id='db15adeb-b65b-4649-9443-96b932d2891e', tool_call_id='call_36MHge9EDLhFd9aVrp6HhLVN', artifact={'query': 'weather in San Francisco', 'follow_up_questions': None, 'answer': None, 'images': [], 'results': [{'title': 'San Francisco Bay Area, CA - National Weather Service', 'url': 'https://www.weather.gov/mtr/?os=os/&ref=app', 'content': 'FORECAST Severe Weather Fire Weather Space Weather PAST WEATHER Past Weather Space Weather Winter Weather Weather-Ready Nation Forecast Models NWS News NWS Media Contacts Local forecast by Weather Forecast Office NWS Forecast Office San Francisco, CA Weather.gov > San Francisco Bay Area, CA Graphical Hazardous Weather Outlook Fire Weather Snooper Forecasts Aviation Weather Severe Weather Fire Weather Winter Weather Forecast Models Probabilistic Weather Forecast Local River Observations (Map) Weather Ready Nation Winter Weather Advisory Chilly conditions are forecast temperatures through 10pm forecast to drop into the 50s and 60s. Visit weather.gov and type in your city or zip for details! Weather Map Local Graphical Forecast U.S. Graphical Forecasts Forecast Weather Tables Fire Weather National Weather Service', 'score': 0.9685006, 'raw_content': None}, {'title': 'National Weather Service', 'url': 'https://forecast.weather.gov/zipcity.php?inputstring=San+francisco,CA', 'content': 'FORECAST Fire Weather Sun (Ultraviolet Radiation) NWS Education Home NWS News Search For  NWS  All NOAA About NWS Your local forecast office is Local Forecast OfficeMore Local Wx3 Day HistoryHourly Weather Forecast High: 69 °F Monday Night High: 68 °F High: 74 °F High: 76 °F Monday Night Additional Forecasts and Information Zone Area Forecast for San Francisco County, CA Hourly Weather Forecast Air Quality Forecasts Forecast Weather Table Interface ABOUT THIS FORECAST Radar & Satellite Image Hourly Weather Forecast Winter Weather Forecasts Fire Weather Outlooks PAST WEATHER Toggle menu FORECAST Toggle menu Local Forecast International Forecasts Fire Weather Current Graphical Forecast Maps Aviation Weather Fire Weather International Weather WEATHER SAFETY Toggle menu NWS Education Home National Weather Service', 'score': 0.95719784, 'raw_content': None}], 'response_time': 3.54})]}}\n",
      "----\n",
      "{'agent': {'messages': [AIMessage(content='The current weather in San Francisco is chilly, with temperatures forecasted to drop into the 50s and 60s. If you would like more detailed information, you can visit the [National Weather Service website](https://www.weather.gov/mtr/?os=os/&ref=app) or check the [hourly weather forecast](https://forecast.weather.gov/zipcity.php?inputstring=San+francisco,CA).', additional_kwargs={'refusal': None}, response_metadata={'token_usage': {'completion_tokens': 89, 'prompt_tokens': 528, 'total_tokens': 617, 'completion_tokens_details': {'audio_tokens': None, 'reasoning_tokens': 0}, 'prompt_tokens_details': {'audio_tokens': None, 'cached_tokens': 0}}, 'model_name': 'gpt-3.5-turbo-0125', 'system_fingerprint': None, 'finish_reason': 'stop', 'logprobs': None}, id='run-2f434ddf-cccd-476e-835b-e4cd16d950b5-0', usage_metadata={'input_tokens': 528, 'output_tokens': 89, 'total_tokens': 617})]}}\n",
      "----\n"
     ]
    }
   ],
   "source": [
    "# Use the agent\n",
    "config = {\"configurable\": {\"thread_id\": \"abc123\"}}\n",
    "\n",
    "for chunk in agent_executor.stream(\n",
    "    {\"messages\": [HumanMessage(content=\"hi im bob! and i live in sf\")]}, config\n",
    "):\n",
    "    print(chunk)\n",
    "    print(\"----\")\n",
    "\n",
    "for chunk in agent_executor.stream(\n",
    "    {\"messages\": [HumanMessage(content=\"whats the weather where I live?\")]}, config\n",
    "):\n",
    "    print(chunk)\n",
    "    print(\"----\")"
   ]
  },
  {
   "cell_type": "markdown",
   "metadata": {},
   "source": [
    "#### Define Tools"
   ]
  },
  {
   "cell_type": "code",
   "execution_count": 5,
   "metadata": {},
   "outputs": [
    {
     "name": "stdout",
     "output_type": "stream",
     "text": [
      "[{'url': 'https://www.weatherapi.com/', 'content': \"{'location': {'name': 'San Francisco', 'region': 'California', 'country': 'United States of America', 'lat': 37.775, 'lon': -122.4183, 'tz_id': 'America/Los_Angeles', 'localtime_epoch': 1730741912, 'localtime': '2024-11-04 09:38'}, 'current': {'last_updated_epoch': 1730741400, 'last_updated': '2024-11-04 09:30', 'temp_c': 13.2, 'temp_f': 55.7, 'is_day': 1, 'condition': {'text': 'Sunny', 'icon': '//cdn.weatherapi.com/weather/64x64/day/113.png', 'code': 1000}, 'wind_mph': 2.7, 'wind_kph': 4.3, 'wind_degree': 17, 'wind_dir': 'NNE', 'pressure_mb': 1023.0, 'pressure_in': 30.21, 'precip_mm': 0.0, 'precip_in': 0.0, 'humidity': 58, 'cloud': 0, 'feelslike_c': 13.0, 'feelslike_f': 55.4, 'windchill_c': 13.0, 'windchill_f': 55.4, 'heatindex_c': 13.2, 'heatindex_f': 55.7, 'dewpoint_c': 4.9, 'dewpoint_f': 40.7, 'vis_km': 10.0, 'vis_miles': 6.0, 'uv': 1.0, 'gust_mph': 4.5, 'gust_kph': 7.2}}\"}, {'url': 'https://world-weather.info/forecast/usa/san_francisco/april-2024/', 'content': 'Detailed ⚡ San Francisco Weather Forecast for April 2024 - day/night 🌡️ temperatures, precipitations - World-Weather.info. Add the current city. Search. Weather; Archive; Widgets °F. World; United States; California; Weather in San Francisco; ... 11 +63° +52° 12 +59° +50° 13'}]\n"
     ]
    }
   ],
   "source": [
    "from langchain_community.tools.tavily_search import TavilySearchResults\n",
    "\n",
    "search = TavilySearchResults(max_results=2)\n",
    "search_results = search.invoke(\"what is the weather in SF\")\n",
    "print(search_results)\n",
    "# If we want, we can create other tools.\n",
    "# Once we have all the tools we want, we can put them in a list that we will reference later.\n",
    "tools = [search]"
   ]
  },
  {
   "cell_type": "markdown",
   "metadata": {},
   "source": [
    "#### Using Language Models"
   ]
  },
  {
   "cell_type": "code",
   "execution_count": 6,
   "metadata": {},
   "outputs": [],
   "source": [
    "import getpass\n",
    "import os\n",
    "\n",
    "# os.environ[\"OPENAI_API_KEY\"] = getpass.getpass()\n",
    "\n",
    "from langchain_openai import ChatOpenAI\n",
    "\n",
    "# model = ChatOpenAI(model=\"gpt-4\")\n",
    "# model = ChatOpenAI(model=\"gpt-3.5-turbo\")"
   ]
  },
  {
   "cell_type": "code",
   "execution_count": 7,
   "metadata": {},
   "outputs": [
    {
     "data": {
      "text/plain": [
       "'Hello! How can I assist you today?'"
      ]
     },
     "execution_count": 7,
     "metadata": {},
     "output_type": "execute_result"
    }
   ],
   "source": [
    "from langchain_core.messages import HumanMessage\n",
    "\n",
    "response = model.invoke([HumanMessage(content=\"hi!\")])\n",
    "response.content"
   ]
  },
  {
   "cell_type": "code",
   "execution_count": 8,
   "metadata": {},
   "outputs": [],
   "source": [
    "model_with_tools = model.bind_tools(tools)"
   ]
  },
  {
   "cell_type": "code",
   "execution_count": 9,
   "metadata": {},
   "outputs": [
    {
     "name": "stdout",
     "output_type": "stream",
     "text": [
      "ContentString: Hello! How can I assist you today?\n",
      "ToolCalls: []\n"
     ]
    }
   ],
   "source": [
    "response = model_with_tools.invoke([HumanMessage(content=\"Hi!\")])\n",
    "\n",
    "print(f\"ContentString: {response.content}\")\n",
    "print(f\"ToolCalls: {response.tool_calls}\")"
   ]
  },
  {
   "cell_type": "code",
   "execution_count": 10,
   "metadata": {},
   "outputs": [
    {
     "name": "stdout",
     "output_type": "stream",
     "text": [
      "ContentString: \n",
      "ToolCalls: [{'name': 'tavily_search_results_json', 'args': {'query': 'weather in San Francisco'}, 'id': 'call_w99uOb9qcyYbuyi5x2W9Wkz8', 'type': 'tool_call'}]\n"
     ]
    }
   ],
   "source": [
    "response = model_with_tools.invoke([HumanMessage(content=\"What's the weather in SF?\")])\n",
    "\n",
    "print(f\"ContentString: {response.content}\")\n",
    "print(f\"ToolCalls: {response.tool_calls}\")"
   ]
  },
  {
   "cell_type": "markdown",
   "metadata": {},
   "source": [
    "#### Create the Agent"
   ]
  },
  {
   "cell_type": "code",
   "execution_count": 11,
   "metadata": {},
   "outputs": [],
   "source": [
    "from langgraph.prebuilt import create_react_agent\n",
    "\n",
    "agent_executor = create_react_agent(model, tools)"
   ]
  },
  {
   "cell_type": "markdown",
   "metadata": {},
   "source": [
    "#### Run the Agent"
   ]
  },
  {
   "cell_type": "code",
   "execution_count": 12,
   "metadata": {},
   "outputs": [
    {
     "data": {
      "text/plain": [
       "[HumanMessage(content='hi!', id='2076a8f8-1055-4550-b0ee-168f0ce409c3'),\n",
       " AIMessage(content='Hello! How can I assist you today?', additional_kwargs={'refusal': None}, response_metadata={'token_usage': {'completion_tokens': 10, 'prompt_tokens': 83, 'total_tokens': 93, 'completion_tokens_details': {'audio_tokens': None, 'reasoning_tokens': 0}, 'prompt_tokens_details': {'audio_tokens': None, 'cached_tokens': 0}}, 'model_name': 'gpt-3.5-turbo-0125', 'system_fingerprint': None, 'finish_reason': 'stop', 'logprobs': None}, id='run-853acb14-8091-4467-89ca-cf15318f155a-0', usage_metadata={'input_tokens': 83, 'output_tokens': 10, 'total_tokens': 93})]"
      ]
     },
     "execution_count": 12,
     "metadata": {},
     "output_type": "execute_result"
    }
   ],
   "source": [
    "response = agent_executor.invoke({\"messages\": [HumanMessage(content=\"hi!\")]})\n",
    "\n",
    "response[\"messages\"]"
   ]
  },
  {
   "cell_type": "code",
   "execution_count": 13,
   "metadata": {},
   "outputs": [
    {
     "data": {
      "text/plain": [
       "[HumanMessage(content='whats the weather in sf?', id='a8920eb1-01b2-45bd-beeb-f85c3945f4eb'),\n",
       " AIMessage(content='', additional_kwargs={'tool_calls': [{'id': 'call_zGdVJhdyeK3ZppPxMseFQQar', 'function': {'arguments': '{\"query\":\"weather in San Francisco\"}', 'name': 'tavily_search_results_json'}, 'type': 'function'}], 'refusal': None}, response_metadata={'token_usage': {'completion_tokens': 21, 'prompt_tokens': 88, 'total_tokens': 109, 'completion_tokens_details': {'audio_tokens': None, 'reasoning_tokens': 0}, 'prompt_tokens_details': {'audio_tokens': None, 'cached_tokens': 0}}, 'model_name': 'gpt-3.5-turbo-0125', 'system_fingerprint': None, 'finish_reason': 'tool_calls', 'logprobs': None}, id='run-fd0fa3fb-9da9-4467-b500-619dee1e3c43-0', tool_calls=[{'name': 'tavily_search_results_json', 'args': {'query': 'weather in San Francisco'}, 'id': 'call_zGdVJhdyeK3ZppPxMseFQQar', 'type': 'tool_call'}], usage_metadata={'input_tokens': 88, 'output_tokens': 21, 'total_tokens': 109}),\n",
       " ToolMessage(content='[{\"url\": \"https://www.weatherapi.com/\", \"content\": \"{\\'location\\': {\\'name\\': \\'San Francisco\\', \\'region\\': \\'California\\', \\'country\\': \\'United States of America\\', \\'lat\\': 37.775, \\'lon\\': -122.4183, \\'tz_id\\': \\'America/Los_Angeles\\', \\'localtime_epoch\\': 1730741912, \\'localtime\\': \\'2024-11-04 09:38\\'}, \\'current\\': {\\'last_updated_epoch\\': 1730741400, \\'last_updated\\': \\'2024-11-04 09:30\\', \\'temp_c\\': 13.2, \\'temp_f\\': 55.7, \\'is_day\\': 1, \\'condition\\': {\\'text\\': \\'Sunny\\', \\'icon\\': \\'//cdn.weatherapi.com/weather/64x64/day/113.png\\', \\'code\\': 1000}, \\'wind_mph\\': 2.7, \\'wind_kph\\': 4.3, \\'wind_degree\\': 17, \\'wind_dir\\': \\'NNE\\', \\'pressure_mb\\': 1023.0, \\'pressure_in\\': 30.21, \\'precip_mm\\': 0.0, \\'precip_in\\': 0.0, \\'humidity\\': 58, \\'cloud\\': 0, \\'feelslike_c\\': 13.0, \\'feelslike_f\\': 55.4, \\'windchill_c\\': 13.0, \\'windchill_f\\': 55.4, \\'heatindex_c\\': 13.2, \\'heatindex_f\\': 55.7, \\'dewpoint_c\\': 4.9, \\'dewpoint_f\\': 40.7, \\'vis_km\\': 10.0, \\'vis_miles\\': 6.0, \\'uv\\': 1.0, \\'gust_mph\\': 4.5, \\'gust_kph\\': 7.2}}\"}, {\"url\": \"https://world-weather.info/forecast/usa/san_francisco/april-2024/\", \"content\": \"Detailed ⚡ San Francisco Weather Forecast for April 2024 - day/night 🌡️ temperatures, precipitations - World-Weather.info. Add the current city. Search. Weather; Archive; Widgets °F. World; United States; California; Weather in San Francisco; ... 11 +63° +52° 12 +59° +50° 13\"}]', name='tavily_search_results_json', id='68ec0e02-8e8f-496e-bc31-3475a04f4e08', tool_call_id='call_zGdVJhdyeK3ZppPxMseFQQar', artifact={'query': 'weather in San Francisco', 'follow_up_questions': None, 'answer': None, 'images': [], 'results': [{'title': 'Weather in San Francisco', 'url': 'https://www.weatherapi.com/', 'content': \"{'location': {'name': 'San Francisco', 'region': 'California', 'country': 'United States of America', 'lat': 37.775, 'lon': -122.4183, 'tz_id': 'America/Los_Angeles', 'localtime_epoch': 1730741912, 'localtime': '2024-11-04 09:38'}, 'current': {'last_updated_epoch': 1730741400, 'last_updated': '2024-11-04 09:30', 'temp_c': 13.2, 'temp_f': 55.7, 'is_day': 1, 'condition': {'text': 'Sunny', 'icon': '//cdn.weatherapi.com/weather/64x64/day/113.png', 'code': 1000}, 'wind_mph': 2.7, 'wind_kph': 4.3, 'wind_degree': 17, 'wind_dir': 'NNE', 'pressure_mb': 1023.0, 'pressure_in': 30.21, 'precip_mm': 0.0, 'precip_in': 0.0, 'humidity': 58, 'cloud': 0, 'feelslike_c': 13.0, 'feelslike_f': 55.4, 'windchill_c': 13.0, 'windchill_f': 55.4, 'heatindex_c': 13.2, 'heatindex_f': 55.7, 'dewpoint_c': 4.9, 'dewpoint_f': 40.7, 'vis_km': 10.0, 'vis_miles': 6.0, 'uv': 1.0, 'gust_mph': 4.5, 'gust_kph': 7.2}}\", 'score': 0.9874346, 'raw_content': None}, {'title': 'Weather in San Francisco in April 2024', 'url': 'https://world-weather.info/forecast/usa/san_francisco/april-2024/', 'content': 'Detailed ⚡ San Francisco Weather Forecast for April 2024 - day/night 🌡️ temperatures, precipitations - World-Weather.info. Add the current city. Search. Weather; Archive; Widgets °F. World; United States; California; Weather in San Francisco; ... 11 +63° +52° 12 +59° +50° 13', 'score': 0.9812749, 'raw_content': None}], 'response_time': 3.43}),\n",
       " AIMessage(content='The current weather in San Francisco is sunny with a temperature of 55.7°F (13.2°C). The wind is blowing at 4.3 kph from the north-northeast direction. The humidity is at 58%, and there is no precipitation at the moment.', additional_kwargs={'refusal': None}, response_metadata={'token_usage': {'completion_tokens': 59, 'prompt_tokens': 638, 'total_tokens': 697, 'completion_tokens_details': {'audio_tokens': None, 'reasoning_tokens': 0}, 'prompt_tokens_details': {'audio_tokens': None, 'cached_tokens': 0}}, 'model_name': 'gpt-3.5-turbo-0125', 'system_fingerprint': None, 'finish_reason': 'stop', 'logprobs': None}, id='run-ca0ecaf8-16ee-4950-a189-604473abe0f4-0', usage_metadata={'input_tokens': 638, 'output_tokens': 59, 'total_tokens': 697})]"
      ]
     },
     "execution_count": 13,
     "metadata": {},
     "output_type": "execute_result"
    }
   ],
   "source": [
    "response = agent_executor.invoke(\n",
    "    {\"messages\": [HumanMessage(content=\"whats the weather in sf?\")]}\n",
    ")\n",
    "response[\"messages\"]"
   ]
  },
  {
   "cell_type": "markdown",
   "metadata": {},
   "source": [
    "#### Streaming Messages"
   ]
  },
  {
   "cell_type": "code",
   "execution_count": 14,
   "metadata": {},
   "outputs": [
    {
     "name": "stdout",
     "output_type": "stream",
     "text": [
      "{'agent': {'messages': [AIMessage(content='', additional_kwargs={'tool_calls': [{'id': 'call_vztAjfezwl43dIW3nzN28ArL', 'function': {'arguments': '{\"query\":\"weather in San Francisco\"}', 'name': 'tavily_search_results_json'}, 'type': 'function'}], 'refusal': None}, response_metadata={'token_usage': {'completion_tokens': 21, 'prompt_tokens': 88, 'total_tokens': 109, 'completion_tokens_details': {'audio_tokens': None, 'reasoning_tokens': 0}, 'prompt_tokens_details': {'audio_tokens': None, 'cached_tokens': 0}}, 'model_name': 'gpt-3.5-turbo-0125', 'system_fingerprint': None, 'finish_reason': 'tool_calls', 'logprobs': None}, id='run-7abd91c7-d524-4102-be2d-543304cbc5ad-0', tool_calls=[{'name': 'tavily_search_results_json', 'args': {'query': 'weather in San Francisco'}, 'id': 'call_vztAjfezwl43dIW3nzN28ArL', 'type': 'tool_call'}], usage_metadata={'input_tokens': 88, 'output_tokens': 21, 'total_tokens': 109})]}}\n",
      "----\n",
      "{'tools': {'messages': [ToolMessage(content='[{\"url\": \"https://www.weatherapi.com/\", \"content\": \"{\\'location\\': {\\'name\\': \\'San Francisco\\', \\'region\\': \\'California\\', \\'country\\': \\'United States of America\\', \\'lat\\': 37.775, \\'lon\\': -122.4183, \\'tz_id\\': \\'America/Los_Angeles\\', \\'localtime_epoch\\': 1730741912, \\'localtime\\': \\'2024-11-04 09:38\\'}, \\'current\\': {\\'last_updated_epoch\\': 1730741400, \\'last_updated\\': \\'2024-11-04 09:30\\', \\'temp_c\\': 13.2, \\'temp_f\\': 55.7, \\'is_day\\': 1, \\'condition\\': {\\'text\\': \\'Sunny\\', \\'icon\\': \\'//cdn.weatherapi.com/weather/64x64/day/113.png\\', \\'code\\': 1000}, \\'wind_mph\\': 2.7, \\'wind_kph\\': 4.3, \\'wind_degree\\': 17, \\'wind_dir\\': \\'NNE\\', \\'pressure_mb\\': 1023.0, \\'pressure_in\\': 30.21, \\'precip_mm\\': 0.0, \\'precip_in\\': 0.0, \\'humidity\\': 58, \\'cloud\\': 0, \\'feelslike_c\\': 13.0, \\'feelslike_f\\': 55.4, \\'windchill_c\\': 13.0, \\'windchill_f\\': 55.4, \\'heatindex_c\\': 13.2, \\'heatindex_f\\': 55.7, \\'dewpoint_c\\': 4.9, \\'dewpoint_f\\': 40.7, \\'vis_km\\': 10.0, \\'vis_miles\\': 6.0, \\'uv\\': 1.0, \\'gust_mph\\': 4.5, \\'gust_kph\\': 7.2}}\"}, {\"url\": \"https://world-weather.info/forecast/usa/san_francisco/april-2024/\", \"content\": \"Detailed ⚡ San Francisco Weather Forecast for April 2024 - day/night 🌡️ temperatures, precipitations - World-Weather.info. Add the current city. Search. Weather; Archive; Widgets °F. World; United States; California; Weather in San Francisco; ... 11 +63° +52° 12 +59° +50° 13\"}]', name='tavily_search_results_json', id='be07245f-3e6d-493d-a4f2-04794a1e6087', tool_call_id='call_vztAjfezwl43dIW3nzN28ArL', artifact={'query': 'weather in San Francisco', 'follow_up_questions': None, 'answer': None, 'images': [], 'results': [{'title': 'Weather in San Francisco', 'url': 'https://www.weatherapi.com/', 'content': \"{'location': {'name': 'San Francisco', 'region': 'California', 'country': 'United States of America', 'lat': 37.775, 'lon': -122.4183, 'tz_id': 'America/Los_Angeles', 'localtime_epoch': 1730741912, 'localtime': '2024-11-04 09:38'}, 'current': {'last_updated_epoch': 1730741400, 'last_updated': '2024-11-04 09:30', 'temp_c': 13.2, 'temp_f': 55.7, 'is_day': 1, 'condition': {'text': 'Sunny', 'icon': '//cdn.weatherapi.com/weather/64x64/day/113.png', 'code': 1000}, 'wind_mph': 2.7, 'wind_kph': 4.3, 'wind_degree': 17, 'wind_dir': 'NNE', 'pressure_mb': 1023.0, 'pressure_in': 30.21, 'precip_mm': 0.0, 'precip_in': 0.0, 'humidity': 58, 'cloud': 0, 'feelslike_c': 13.0, 'feelslike_f': 55.4, 'windchill_c': 13.0, 'windchill_f': 55.4, 'heatindex_c': 13.2, 'heatindex_f': 55.7, 'dewpoint_c': 4.9, 'dewpoint_f': 40.7, 'vis_km': 10.0, 'vis_miles': 6.0, 'uv': 1.0, 'gust_mph': 4.5, 'gust_kph': 7.2}}\", 'score': 0.9942928, 'raw_content': None}, {'title': 'Weather in San Francisco in April 2024', 'url': 'https://world-weather.info/forecast/usa/san_francisco/april-2024/', 'content': 'Detailed ⚡ San Francisco Weather Forecast for April 2024 - day/night 🌡️ temperatures, precipitations - World-Weather.info. Add the current city. Search. Weather; Archive; Widgets °F. World; United States; California; Weather in San Francisco; ... 11 +63° +52° 12 +59° +50° 13', 'score': 0.98752034, 'raw_content': None}], 'response_time': 3.35})]}}\n",
      "----\n",
      "{'agent': {'messages': [AIMessage(content='The current weather in San Francisco is as follows:\\n- Temperature: 55.7°F (13.2°C)\\n- Condition: Sunny\\n- Wind: 4.3 km/h from the NNE\\n- Pressure: 30.21 in\\n- Humidity: 58%\\n- Visibility: 6.0 miles\\n\\nFor more detailed weather forecasts, you can visit [Weather API](https://www.weatherapi.com/).', additional_kwargs={'refusal': None}, response_metadata={'token_usage': {'completion_tokens': 90, 'prompt_tokens': 638, 'total_tokens': 728, 'completion_tokens_details': {'audio_tokens': None, 'reasoning_tokens': 0}, 'prompt_tokens_details': {'audio_tokens': None, 'cached_tokens': 0}}, 'model_name': 'gpt-3.5-turbo-0125', 'system_fingerprint': None, 'finish_reason': 'stop', 'logprobs': None}, id='run-cf69fcb9-1203-4335-af4d-5ed8e03da210-0', usage_metadata={'input_tokens': 638, 'output_tokens': 90, 'total_tokens': 728})]}}\n",
      "----\n"
     ]
    }
   ],
   "source": [
    "for chunk in agent_executor.stream(\n",
    "    {\"messages\": [HumanMessage(content=\"whats the weather in sf?\")]}\n",
    "):\n",
    "    print(chunk)\n",
    "    print(\"----\")"
   ]
  },
  {
   "cell_type": "markdown",
   "metadata": {},
   "source": [
    "#### Streaming Tokens"
   ]
  },
  {
   "cell_type": "code",
   "execution_count": 15,
   "metadata": {},
   "outputs": [
    {
     "name": "stderr",
     "output_type": "stream",
     "text": [
      "/tmp/ipykernel_31563/2442860291.py:1: LangChainBetaWarning: This API is in beta and may change in the future.\n",
      "  async for event in agent_executor.astream_events(\n"
     ]
    },
    {
     "name": "stdout",
     "output_type": "stream",
     "text": [
      "--\n",
      "Starting tool: tavily_search_results_json with inputs: {'query': 'weather in San Francisco'}\n",
      "Done tool: tavily_search_results_json\n",
      "Tool output was: content='[{\"url\": \"https://forecast.weather.gov/MapClick.php?lat=37.7772&lon=-122.4168\", \"content\": \"Local Forecast Office More Local Wx 3 Day History Hourly Weather Forecast. Extended Forecast for San Francisco CA . Tonight. Low: 52 °F. Partly Cloudy. Friday. High: 65 °F. Becoming Cloudy. Friday Night. Low: 54 °F. Rain. ... San Francisco CA 37.77°N 122.41°W (Elev. 131 ft) Last Update: 3:04 pm PDT Oct 31, 2024. Forecast Valid: 5pm PDT Oct\"}, {\"url\": \"https://forecast.weather.gov/zipcity.php?inputstring=San+Francisco,CA\", \"content\": \"Get the latest weather information for San Francisco, CA from the National Weather Service. See current conditions, hourly and extended forecasts, and air quality alerts for the next week.\"}]' name='tavily_search_results_json' tool_call_id='call_4xh5tXbgDgtNDLzqFzQagzVs' artifact={'query': 'weather in San Francisco', 'follow_up_questions': None, 'answer': None, 'images': [], 'results': [{'title': 'National Weather Service', 'url': 'https://forecast.weather.gov/MapClick.php?lat=37.7772&lon=-122.4168', 'content': 'Local Forecast Office More Local Wx 3 Day History Hourly Weather Forecast. Extended Forecast for San Francisco CA . Tonight. Low: 52 °F. Partly Cloudy. Friday. High: 65 °F. Becoming Cloudy. Friday Night. Low: 54 °F. Rain. ... San Francisco CA 37.77°N 122.41°W (Elev. 131 ft) Last Update: 3:04 pm PDT Oct 31, 2024. Forecast Valid: 5pm PDT Oct', 'score': 0.9981756, 'raw_content': None}, {'title': 'National Weather Service', 'url': 'https://forecast.weather.gov/zipcity.php?inputstring=San+Francisco,CA', 'content': 'Get the latest weather information for San Francisco, CA from the National Weather Service. See current conditions, hourly and extended forecasts, and air quality alerts for the next week.', 'score': 0.96080494, 'raw_content': None}], 'response_time': 3.27}\n",
      "--\n",
      "The| weather| in| San| Francisco| is| currently| partly| cloudy| with| a| low| of| |52|°F|.| Tomorrow|,| it| is| expected| to| become| cloudy| with| a| high| of| |65|°F| during| the| day| and| rain| at| night|.| For| more| detailed| and| up|-to|-date| information|,| you| can| visit| [|National| Weather| Service| -| San| Francisco| CA| Forecast|](|https|://|forecast|.weather|.gov|/|Map|Click|.php|?|lat|=|37|.|777|2|&|lon|=-|122|.|416|8|).|"
     ]
    }
   ],
   "source": [
    "async for event in agent_executor.astream_events(\n",
    "    {\"messages\": [HumanMessage(content=\"whats the weather in sf?\")]}, version=\"v1\"\n",
    "):\n",
    "    kind = event[\"event\"]\n",
    "    if kind == \"on_chain_start\":\n",
    "        if (\n",
    "            event[\"name\"] == \"Agent\"\n",
    "        ):  # Was assigned when creating the agent with `.with_config({\"run_name\": \"Agent\"})`\n",
    "            print(\n",
    "                f\"Starting agent: {event['name']} with input: {event['data'].get('input')}\"\n",
    "            )\n",
    "    elif kind == \"on_chain_end\":\n",
    "        if (\n",
    "            event[\"name\"] == \"Agent\"\n",
    "        ):  # Was assigned when creating the agent with `.with_config({\"run_name\": \"Agent\"})`\n",
    "            print()\n",
    "            print(\"--\")\n",
    "            print(\n",
    "                f\"Done agent: {event['name']} with output: {event['data'].get('output')['output']}\"\n",
    "            )\n",
    "    if kind == \"on_chat_model_stream\":\n",
    "        content = event[\"data\"][\"chunk\"].content\n",
    "        if content:\n",
    "            # Empty content in the context of OpenAI means\n",
    "            # that the model is asking for a tool to be invoked.\n",
    "            # So we only print non-empty content\n",
    "            print(content, end=\"|\")\n",
    "    elif kind == \"on_tool_start\":\n",
    "        print(\"--\")\n",
    "        print(\n",
    "            f\"Starting tool: {event['name']} with inputs: {event['data'].get('input')}\"\n",
    "        )\n",
    "    elif kind == \"on_tool_end\":\n",
    "        print(f\"Done tool: {event['name']}\")\n",
    "        print(f\"Tool output was: {event['data'].get('output')}\")\n",
    "        print(\"--\")"
   ]
  },
  {
   "cell_type": "markdown",
   "metadata": {},
   "source": [
    "#### Adding in memory"
   ]
  },
  {
   "cell_type": "code",
   "execution_count": 16,
   "metadata": {},
   "outputs": [],
   "source": [
    "from langgraph.checkpoint.memory import MemorySaver\n",
    "\n",
    "memory = MemorySaver()"
   ]
  },
  {
   "cell_type": "code",
   "execution_count": 17,
   "metadata": {},
   "outputs": [],
   "source": [
    "agent_executor = create_react_agent(model, tools, checkpointer=memory)\n",
    "\n",
    "config = {\"configurable\": {\"thread_id\": \"abc123\"}}"
   ]
  },
  {
   "cell_type": "code",
   "execution_count": 18,
   "metadata": {},
   "outputs": [
    {
     "name": "stdout",
     "output_type": "stream",
     "text": [
      "{'agent': {'messages': [AIMessage(content='Hello Bob! How can I assist you today?', additional_kwargs={'refusal': None}, response_metadata={'token_usage': {'completion_tokens': 11, 'prompt_tokens': 85, 'total_tokens': 96, 'completion_tokens_details': {'audio_tokens': None, 'reasoning_tokens': 0}, 'prompt_tokens_details': {'audio_tokens': None, 'cached_tokens': 0}}, 'model_name': 'gpt-3.5-turbo-0125', 'system_fingerprint': None, 'finish_reason': 'stop', 'logprobs': None}, id='run-c8f4acab-193b-48bb-8d3f-3a38d04a5312-0', usage_metadata={'input_tokens': 85, 'output_tokens': 11, 'total_tokens': 96})]}}\n",
      "----\n"
     ]
    }
   ],
   "source": [
    "for chunk in agent_executor.stream(\n",
    "    {\"messages\": [HumanMessage(content=\"hi im bob!\")]}, config\n",
    "):\n",
    "    print(chunk)\n",
    "    print(\"----\")"
   ]
  },
  {
   "cell_type": "code",
   "execution_count": 19,
   "metadata": {},
   "outputs": [
    {
     "name": "stdout",
     "output_type": "stream",
     "text": [
      "{'agent': {'messages': [AIMessage(content='Your name is Bob. How can I help you, Bob?', additional_kwargs={'refusal': None}, response_metadata={'token_usage': {'completion_tokens': 14, 'prompt_tokens': 108, 'total_tokens': 122, 'completion_tokens_details': {'audio_tokens': None, 'reasoning_tokens': 0}, 'prompt_tokens_details': {'audio_tokens': None, 'cached_tokens': 0}}, 'model_name': 'gpt-3.5-turbo-0125', 'system_fingerprint': None, 'finish_reason': 'stop', 'logprobs': None}, id='run-a4575501-e8f4-4dfb-8ff5-d48a74eb41b9-0', usage_metadata={'input_tokens': 108, 'output_tokens': 14, 'total_tokens': 122})]}}\n",
      "----\n"
     ]
    }
   ],
   "source": [
    "for chunk in agent_executor.stream(\n",
    "    {\"messages\": [HumanMessage(content=\"whats my name?\")]}, config\n",
    "):\n",
    "    print(chunk)\n",
    "    print(\"----\")"
   ]
  },
  {
   "cell_type": "code",
   "execution_count": 20,
   "metadata": {},
   "outputs": [
    {
     "name": "stdout",
     "output_type": "stream",
     "text": [
      "{'agent': {'messages': [AIMessage(content=\"I don't have access to personal information like your name. If there's anything else you'd like to know or discuss, feel free to ask!\", additional_kwargs={'refusal': None}, response_metadata={'token_usage': {'completion_tokens': 31, 'prompt_tokens': 86, 'total_tokens': 117, 'completion_tokens_details': {'audio_tokens': None, 'reasoning_tokens': 0}, 'prompt_tokens_details': {'audio_tokens': None, 'cached_tokens': 0}}, 'model_name': 'gpt-3.5-turbo-0125', 'system_fingerprint': None, 'finish_reason': 'stop', 'logprobs': None}, id='run-e9a5c195-057c-446d-89a2-825b774e507f-0', usage_metadata={'input_tokens': 86, 'output_tokens': 31, 'total_tokens': 117})]}}\n",
      "----\n"
     ]
    }
   ],
   "source": [
    "config = {\"configurable\": {\"thread_id\": \"xyz123\"}}\n",
    "for chunk in agent_executor.stream(\n",
    "    {\"messages\": [HumanMessage(content=\"whats my name?\")]}, config\n",
    "):\n",
    "    print(chunk)\n",
    "    print(\"----\")"
   ]
  }
 ],
 "metadata": {
  "kernelspec": {
   "display_name": "langchain",
   "language": "python",
   "name": "python3"
  },
  "language_info": {
   "codemirror_mode": {
    "name": "ipython",
    "version": 3
   },
   "file_extension": ".py",
   "mimetype": "text/x-python",
   "name": "python",
   "nbconvert_exporter": "python",
   "pygments_lexer": "ipython3",
   "version": "3.11.10"
  }
 },
 "nbformat": 4,
 "nbformat_minor": 2
}
