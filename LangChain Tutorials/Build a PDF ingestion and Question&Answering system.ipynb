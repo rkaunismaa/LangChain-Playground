{
 "cells": [
  {
   "cell_type": "markdown",
   "metadata": {},
   "source": [
    "#### Tuesday, November 5, 2024\n",
    "\n",
    "mamba activate langchain\n",
    "\n",
    "[Build a PDF ingestion and Question/Answering system](https://python.langchain.com/docs/tutorials/pdf_qa/)\n",
    "\n",
    "This all runs in one pass."
   ]
  },
  {
   "cell_type": "code",
   "execution_count": 1,
   "metadata": {},
   "outputs": [],
   "source": [
    "from langchain_community.document_loaders import PyPDFLoader"
   ]
  },
  {
   "cell_type": "code",
   "execution_count": 2,
   "metadata": {},
   "outputs": [
    {
     "name": "stdout",
     "output_type": "stream",
     "text": [
      "106\n"
     ]
    }
   ],
   "source": [
    "file_path = \"414759-1-_5_Nike-NPS-Combo_Form-10-K_WR.pdf\"\n",
    "loader = PyPDFLoader(file_path)\n",
    "\n",
    "docs = loader.load()\n",
    "\n",
    "print(len(docs))"
   ]
  },
  {
   "cell_type": "code",
   "execution_count": 3,
   "metadata": {},
   "outputs": [
    {
     "name": "stdout",
     "output_type": "stream",
     "text": [
      "FORM 10-KFORM 10-K\n",
      "{'source': '414759-1-_5_Nike-NPS-Combo_Form-10-K_WR.pdf', 'page': 0}\n"
     ]
    }
   ],
   "source": [
    "print(docs[0].page_content[0:100])\n",
    "print(docs[0].metadata)"
   ]
  },
  {
   "cell_type": "markdown",
   "metadata": {},
   "source": [
    "#### Question and Answering with RAG"
   ]
  },
  {
   "cell_type": "code",
   "execution_count": 4,
   "metadata": {},
   "outputs": [],
   "source": [
    "import getpass\n",
    "import os\n",
    "\n",
    "from langchain_openai import ChatOpenAI\n",
    "\n",
    "llm = ChatOpenAI(model=\"gpt-3.5-turbo\")"
   ]
  },
  {
   "cell_type": "code",
   "execution_count": 5,
   "metadata": {},
   "outputs": [],
   "source": [
    "from langchain_core.vectorstores import InMemoryVectorStore\n",
    "from langchain_openai import OpenAIEmbeddings\n",
    "from langchain_text_splitters import RecursiveCharacterTextSplitter\n",
    "\n",
    "text_splitter = RecursiveCharacterTextSplitter(chunk_size=1000, chunk_overlap=200)\n",
    "splits = text_splitter.split_documents(docs)\n",
    "vectorstore = InMemoryVectorStore.from_documents(\n",
    "    documents=splits, embedding=OpenAIEmbeddings()\n",
    ")\n",
    "\n",
    "retriever = vectorstore.as_retriever()"
   ]
  },
  {
   "cell_type": "code",
   "execution_count": 6,
   "metadata": {},
   "outputs": [
    {
     "data": {
      "text/plain": [
       "{'input': \"What was Nike's revenue in 2023?\",\n",
       " 'context': [Document(id='5a52b4cb-300c-45d5-9afa-725e0d35c564', metadata={'source': '414759-1-_5_Nike-NPS-Combo_Form-10-K_WR.pdf', 'page': 36}, page_content='FISCAL 2023 NIKE BRAND REVENUE HIGHLIGHTS\\nThe following tables present NIKE Brand revenues disaggregated by reportable operating segment, distribution channel and \\nmajor product line:\\nFISCAL 2023 COMPARED TO FISCAL 2022\\n• NIKE, Inc. Revenues were $51.2 billion in fiscal 2023, which increased 10% and 16% compared to fiscal 2022 on a reported \\nand currency-neutral basis, respectively. The increase was due to higher revenues in North America, Europe, Middle East & \\nAfrica (\"EMEA\"), APLA and Greater China, which contributed approximately 7, 6, 2 and 1 percentage points to NIKE, Inc. \\nRevenues, respectively. \\n• NIKE Brand revenues, which represented over 90% of NIKE, Inc. Revenues, increased 10% and 16% on a reported and \\ncurrency-neutral basis, respectively. This increase was primarily due to higher revenues in Men\\'s, the Jordan Brand, \\nWomen\\'s and Kids\\' which grew 17%, 35%,11% and 10%, respectively, on a wholesale equivalent basis.'),\n",
       "  Document(id='7def7f2a-d952-46e6-a8b1-83094b334ac1', metadata={'source': '414759-1-_5_Nike-NPS-Combo_Form-10-K_WR.pdf', 'page': 31}, page_content='to-end technology foundation, which we believe will further accelerate our digital transformation. We believe this unified approach \\nwill accelerate growth and unlock more efficiency for our business, while driving speed and responsiveness as we serve \\nconsumers globally.\\nFINANCIAL HIGHLIGHTS \\n• In fiscal 2023, NIKE, Inc. achieved record Revenues of $51.2 billion, which increased 10% and 16% on a reported and \\ncurrency-neutral basis, respectively \\n• NIKE Direct revenues grew 14% from $18.7 billion in fiscal 2022 to $21.3 billion in fiscal 2023, and represented \\napproximately 44% of total NIKE Brand revenues for fiscal 2023\\n• Gross margin for the fiscal year decreased 250 basis points to 43.5% primarily driven by higher product costs, higher \\nmarkdowns and unfavorable changes in foreign currency exchange rates, partially offset by strategic pricing actions\\n• Inventories as of May 31, 2023 were $8.5 billion, flat compared to the prior year, driven by the actions we took throughout'),\n",
       "  Document(id='8f9de790-df0e-4c72-a900-f991de511121', metadata={'source': '414759-1-_5_Nike-NPS-Combo_Form-10-K_WR.pdf', 'page': 32}, page_content='(Dollars in millions) 2023 2022\\nNet income $ 5,070 $ 6,046 \\nAdd: Interest expense (income), net  (6)  205 \\nAdd: Income tax expense  1,131  605 \\nEarnings before interest and taxes $ 6,195 $ 6,856 \\nEBIT Margin: Calculated as total NIKE, Inc. EBIT divided by total NIKE, Inc. Revenues. Our EBIT Margin calculation for fiscal \\n2023 and fiscal 2022 is as follows:\\nYEAR ENDED MAY 31,\\n(Dollars in millions) 2023 2022\\nNumerator\\nEarnings before interest and taxes $ 6,195 $ 6,856 \\nDenominator\\nTotal NIKE, Inc. Revenues $ 51,217 $ 46,710 \\nEBIT Margin  12.1 %  14.7 %\\n2023 FORM 10-K   29'),\n",
       "  Document(id='5f24fbd0-ffec-4386-81c3-c4bf4685d44c', metadata={'source': '414759-1-_5_Nike-NPS-Combo_Form-10-K_WR.pdf', 'page': 41}, page_content=\"EUROPE, MIDDLE EAST & AFRICA\\n(Dollars in millions) FISCAL 2023 FISCAL 2022 % CHANGE\\n% CHANGE \\nEXCLUDING \\nCURRENCY \\nCHANGES FISCAL 2021 % CHANGE\\n% CHANGE \\nEXCLUDING \\nCURRENCY \\nCHANGES\\nRevenues by:\\nFootwear $ 8,260 $ 7,388  12 %  25 % $ 6,970  6 %  9 %\\nApparel  4,566  4,527  1 %  14 %  3,996  13 %  16 %\\nEquipment  592  564  5 %  18 %  490  15 %  17 %\\nTOTAL REVENUES $ 13,418 $ 12,479  8 %  21 % $ 11,456  9 %  12 %\\nRevenues by:    \\nSales to Wholesale Customers $ 8,522 $ 8,377  2 %  15 % $ 7,812  7 %  10 %\\nSales through NIKE Direct  4,896  4,102  19 %  33 %  3,644  13 %  15 %\\nTOTAL REVENUES $ 13,418 $ 12,479  8 %  21 % $ 11,456  9 %  12 %\\nEARNINGS BEFORE INTEREST \\nAND TAXES $ 3,531 $ 3,293  7 % $ 2,435  35 %  \\nFISCAL 2023 COMPARED TO FISCAL 2022 \\n• EMEA revenues increased 21% on a currency-neutral basis, due to higher revenues in Men's, the Jordan Brand, Women's \\nand Kids'. NIKE Direct revenues increased 33%, driven primarily by strong digital sales growth of 43% and comparable store\")],\n",
       " 'answer': \"Nike's revenue in fiscal 2023 was $51.2 billion, representing a 10% increase compared to fiscal 2022 on a reported basis and a 16% increase on a currency-neutral basis.\"}"
      ]
     },
     "execution_count": 6,
     "metadata": {},
     "output_type": "execute_result"
    }
   ],
   "source": [
    "from langchain.chains import create_retrieval_chain\n",
    "from langchain.chains.combine_documents import create_stuff_documents_chain\n",
    "from langchain_core.prompts import ChatPromptTemplate\n",
    "\n",
    "system_prompt = (\n",
    "    \"You are an assistant for question-answering tasks. \"\n",
    "    \"Use the following pieces of retrieved context to answer \"\n",
    "    \"the question. If you don't know the answer, say that you \"\n",
    "    \"don't know. Use three sentences maximum and keep the \"\n",
    "    \"answer concise.\"\n",
    "    \"\\n\\n\"\n",
    "    \"{context}\"\n",
    ")\n",
    "\n",
    "prompt = ChatPromptTemplate.from_messages(\n",
    "    [\n",
    "        (\"system\", system_prompt),\n",
    "        (\"human\", \"{input}\"),\n",
    "    ]\n",
    ")\n",
    "\n",
    "\n",
    "question_answer_chain = create_stuff_documents_chain(llm, prompt)\n",
    "rag_chain = create_retrieval_chain(retriever, question_answer_chain)\n",
    "\n",
    "results = rag_chain.invoke({\"input\": \"What was Nike's revenue in 2023?\"})\n",
    "\n",
    "results"
   ]
  },
  {
   "cell_type": "code",
   "execution_count": 7,
   "metadata": {},
   "outputs": [
    {
     "name": "stdout",
     "output_type": "stream",
     "text": [
      "FISCAL 2023 NIKE BRAND REVENUE HIGHLIGHTS\n",
      "The following tables present NIKE Brand revenues disaggregated by reportable operating segment, distribution channel and \n",
      "major product line:\n",
      "FISCAL 2023 COMPARED TO FISCAL 2022\n",
      "• NIKE, Inc. Revenues were $51.2 billion in fiscal 2023, which increased 10% and 16% compared to fiscal 2022 on a reported \n",
      "and currency-neutral basis, respectively. The increase was due to higher revenues in North America, Europe, Middle East & \n",
      "Africa (\"EMEA\"), APLA and Greater China, which contributed approximately 7, 6, 2 and 1 percentage points to NIKE, Inc. \n",
      "Revenues, respectively. \n",
      "• NIKE Brand revenues, which represented over 90% of NIKE, Inc. Revenues, increased 10% and 16% on a reported and \n",
      "currency-neutral basis, respectively. This increase was primarily due to higher revenues in Men's, the Jordan Brand, \n",
      "Women's and Kids' which grew 17%, 35%,11% and 10%, respectively, on a wholesale equivalent basis.\n"
     ]
    }
   ],
   "source": [
    "print(results[\"context\"][0].page_content)"
   ]
  },
  {
   "cell_type": "code",
   "execution_count": 8,
   "metadata": {},
   "outputs": [
    {
     "name": "stdout",
     "output_type": "stream",
     "text": [
      "{'source': '414759-1-_5_Nike-NPS-Combo_Form-10-K_WR.pdf', 'page': 36}\n"
     ]
    }
   ],
   "source": [
    "print(results[\"context\"][0].metadata)"
   ]
  }
 ],
 "metadata": {
  "kernelspec": {
   "display_name": "langchain",
   "language": "python",
   "name": "python3"
  },
  "language_info": {
   "codemirror_mode": {
    "name": "ipython",
    "version": 3
   },
   "file_extension": ".py",
   "mimetype": "text/x-python",
   "name": "python",
   "nbconvert_exporter": "python",
   "pygments_lexer": "ipython3",
   "version": "3.11.10"
  }
 },
 "nbformat": 4,
 "nbformat_minor": 2
}
