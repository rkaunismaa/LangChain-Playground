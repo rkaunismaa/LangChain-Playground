{
 "cells": [
  {
   "cell_type": "markdown",
   "metadata": {},
   "source": [
    "#### Tuesday, November 5, 2024\n",
    "\n",
    "mamba activate langchain\n",
    "\n",
    "[Build a PDF ingestion and Question/Answering system](https://python.langchain.com/docs/tutorials/pdf_qa/)\n",
    "\n",
    "This all runs in one pass."
   ]
  },
  {
   "cell_type": "code",
   "execution_count": 1,
   "metadata": {},
   "outputs": [],
   "source": [
    "from langchain_community.document_loaders import PyPDFLoader"
   ]
  },
  {
   "cell_type": "code",
   "execution_count": 2,
   "metadata": {},
   "outputs": [
    {
     "name": "stdout",
     "output_type": "stream",
     "text": [
      "106\n"
     ]
    }
   ],
   "source": [
    "file_path = \"../414759-1-_5_Nike-NPS-Combo_Form-10-K_WR.pdf\"\n",
    "loader = PyPDFLoader(file_path)\n",
    "\n",
    "docs = loader.load()\n",
    "\n",
    "print(len(docs))"
   ]
  },
  {
   "cell_type": "code",
   "execution_count": 3,
   "metadata": {},
   "outputs": [
    {
     "name": "stdout",
     "output_type": "stream",
     "text": [
      "FORM 10-KFORM 10-K\n",
      "{'source': '../414759-1-_5_Nike-NPS-Combo_Form-10-K_WR.pdf', 'page': 0}\n"
     ]
    }
   ],
   "source": [
    "print(docs[0].page_content[0:100])\n",
    "print(docs[0].metadata)"
   ]
  },
  {
   "cell_type": "markdown",
   "metadata": {},
   "source": [
    "#### Question and Answering with RAG"
   ]
  },
  {
   "cell_type": "code",
   "execution_count": 4,
   "metadata": {},
   "outputs": [],
   "source": [
    "import getpass\n",
    "import os\n",
    "\n",
    "from langchain_openai import ChatOpenAI\n",
    "\n",
    "# llm = ChatOpenAI(model=\"gpt-3.5-turbo\")\n",
    "llm = ChatOpenAI(base_url=\"http://localhost:1234/v1\", \n",
    "                   # model = \"hermes-3-llama-3.1-8b\",  # do not pass in an unrecognized model name ... \n",
    "                   api_key=\"lm-studio\", \n",
    "                   temperature=0)\n"
   ]
  },
  {
   "cell_type": "code",
   "execution_count": 5,
   "metadata": {},
   "outputs": [
    {
     "name": "stderr",
     "output_type": "stream",
     "text": [
      "/home/rob/miniforge3/envs/langchain/lib/python3.11/site-packages/sentence_transformers/cross_encoder/CrossEncoder.py:13: TqdmExperimentalWarning: Using `tqdm.autonotebook.tqdm` in notebook mode. Use `tqdm.tqdm` instead to force console mode (e.g. in jupyter console)\n",
      "  from tqdm.autonotebook import tqdm, trange\n"
     ]
    }
   ],
   "source": [
    "from langchain_huggingface import HuggingFaceEmbeddings\n",
    "\n",
    "model_name = \"sentence-transformers/all-mpnet-base-v2\"\n",
    "# model_kwargs = {'device': 'cpu'}\n",
    "model_kwargs = {'device': 'cuda'}\n",
    "encode_kwargs = {'normalize_embeddings': False}\n",
    "hfEmbeddings = HuggingFaceEmbeddings(\n",
    "    model_name=model_name,\n",
    "    model_kwargs=model_kwargs,\n",
    "    encode_kwargs=encode_kwargs\n",
    ")"
   ]
  },
  {
   "cell_type": "code",
   "execution_count": 6,
   "metadata": {},
   "outputs": [],
   "source": [
    "from langchain_core.vectorstores import InMemoryVectorStore\n",
    "from langchain_openai import OpenAIEmbeddings\n",
    "from langchain_text_splitters import RecursiveCharacterTextSplitter\n",
    "\n",
    "text_splitter = RecursiveCharacterTextSplitter(chunk_size=1000, chunk_overlap=200)\n",
    "splits = text_splitter.split_documents(docs)\n",
    "vectorstore = InMemoryVectorStore.from_documents(\n",
    "    # documents=splits, embedding=OpenAIEmbeddings()\n",
    "    documents=splits, embedding=hfEmbeddings\n",
    ")\n",
    "\n",
    "retriever = vectorstore.as_retriever()"
   ]
  },
  {
   "cell_type": "code",
   "execution_count": 7,
   "metadata": {},
   "outputs": [
    {
     "data": {
      "text/plain": [
       "{'input': \"What was Nike's revenue in 2023?\",\n",
       " 'context': [Document(id='e5c476e9-d819-490b-abb9-5628c099f3c1', metadata={'source': '../414759-1-_5_Nike-NPS-Combo_Form-10-K_WR.pdf', 'page': 89}, page_content='YEAR ENDED MAY 31,\\n(Dollars in millions) 2023 2022 2021\\nREVENUES\\nNorth America $ 21,608 $ 18,353 $ 17,179 \\nEurope, Middle East & Africa  13,418  12,479  11,456 \\nGreater China  7,248  7,547  8,290 \\nAsia Pacific & Latin America  6,431  5,955  5,343 \\nGlobal Brand Divisions  58  102  25 \\nTotal NIKE Brand  48,763  44,436  42,293 \\nConverse  2,427  2,346  2,205 \\nCorporate  27  (72)  40 \\nTOTAL NIKE, INC. REVENUES $ 51,217 $ 46,710 $ 44,538 \\nEARNINGS BEFORE INTEREST AND TAXES\\nNorth America $ 5,454 $ 5,114 $ 5,089 \\nEurope, Middle East & Africa  3,531  3,293  2,435 \\nGreater China  2,283  2,365  3,243 \\nAsia Pacific & Latin America  1,932  1,896  1,530 \\nGlobal Brand Divisions  (4,841)  (4,262)  (3,656) \\nConverse  676  669  543 \\nCorporate  (2,840)  (2,219)  (2,261) \\nInterest expense (income), net  (6)  205  262 \\nTOTAL NIKE, INC. INCOME BEFORE INCOME TAXES $ 6,201 $ 6,651 $ 6,661 \\nADDITIONS TO PROPERTY, PLANT AND EQUIPMENT\\nNorth America $ 283 $ 146 $ 98 \\nEurope, Middle East & Africa  215  197  153'),\n",
       "  Document(id='8d2f4525-38c1-460c-9a86-bf58600545d8', metadata={'source': '../414759-1-_5_Nike-NPS-Combo_Form-10-K_WR.pdf', 'page': 35}, page_content='CONSOLIDATED OPERATING RESULTS\\nREVENUES\\n(Dollars in millions)\\nFISCAL \\n2023\\nFISCAL \\n2022\\n% \\nCHANGE\\n% CHANGE \\nEXCLUDING \\nCURRENCY \\nCHANGES\\n(1)\\nFISCAL \\n2021\\n% \\nCHANGE\\n% CHANGE \\nEXCLUDING \\nCURRENCY \\nCHANGES\\n(1)\\nNIKE, Inc. Revenues:\\nNIKE Brand Revenues by:\\nFootwear $ 33,135 $ 29,143  14 %  20 % $ 28,021  4 %  4 %\\nApparel  13,843  13,567  2 %  8 %  12,865  5 %  6 %\\nEquipment  1,727  1,624  6 %  13 %  1,382  18 %  18 %\\nGlobal Brand Divisions(2)  58  102  -43 %  -43 %  25  308 %  302 %\\nTotal NIKE Brand Revenues $ 48,763 $ 44,436  10 %  16 % $ 42,293  5 %  6 %\\nConverse  2,427  2,346  3 %  8 %  2,205  6 %  7 %\\nCorporate(3)  27  (72)  —  —  40  —  — \\nTOTAL NIKE, INC. REVENUES $ 51,217 $ 46,710  10 %  16 % $ 44,538  5 %  6 %\\nSupplemental NIKE Brand Revenues Details:\\nNIKE Brand Revenues by:\\nSales to Wholesale Customers $ 27,397 $ 25,608  7 %  14 % $ 25,898  -1 %  -1 %\\nSales through NIKE Direct  21,308  18,726  14 %  20 %  16,370  14 %  15 %'),\n",
       "  Document(id='5b0c16fe-1988-4ee7-96e2-9b8db917b6a9', metadata={'source': '../414759-1-_5_Nike-NPS-Combo_Form-10-K_WR.pdf', 'page': 40}, page_content=\"NORTH AMERICA\\n(Dollars in millions) FISCAL 2023 FISCAL 2022 % CHANGE\\n% CHANGE \\nEXCLUDING \\nCURRENCY \\nCHANGES FISCAL 2021 % CHANGE\\n% CHANGE \\nEXCLUDING \\nCURRENCY \\nCHANGES\\nRevenues by:\\nFootwear $ 14,897 $ 12,228  22 %  22 % $ 11,644  5 %  5 %\\nApparel  5,947  5,492  8 %  9 %  5,028  9 %  9 %\\nEquipment  764  633  21 %  21 %  507  25 %  25 %\\nTOTAL REVENUES $ 21,608 $ 18,353  18 %  18 % $ 17,179  7 %  7 %\\nRevenues by:    \\nSales to Wholesale Customers $ 11,273 $ 9,621  17 %  18 % $ 10,186  -6 %  -6 %\\nSales through NIKE Direct  10,335  8,732  18 %  18 %  6,993  25 %  25 %\\nTOTAL REVENUES $ 21,608 $ 18,353  18 %  18 % $ 17,179  7 %  7 %\\nEARNINGS BEFORE INTEREST \\nAND TAXES $ 5,454 $ 5,114  7 % $ 5,089  0 %\\nFISCAL 2023 COMPARED TO FISCAL 2022\\n• North America revenues increased 18% on a currency-neutral basis, primarily due to higher revenues in Men's and the \\nJordan Brand. NIKE Direct revenues increased 18%, driven by strong digital sales growth of 23%, comparable store sales\"),\n",
       "  Document(id='55a7a5b6-39a5-4d89-a06b-bf8dd9a18d47', metadata={'source': '../414759-1-_5_Nike-NPS-Combo_Form-10-K_WR.pdf', 'page': 36}, page_content='FISCAL 2023 NIKE BRAND REVENUE HIGHLIGHTS\\nThe following tables present NIKE Brand revenues disaggregated by reportable operating segment, distribution channel and \\nmajor product line:\\nFISCAL 2023 COMPARED TO FISCAL 2022\\n• NIKE, Inc. Revenues were $51.2 billion in fiscal 2023, which increased 10% and 16% compared to fiscal 2022 on a reported \\nand currency-neutral basis, respectively. The increase was due to higher revenues in North America, Europe, Middle East & \\nAfrica (\"EMEA\"), APLA and Greater China, which contributed approximately 7, 6, 2 and 1 percentage points to NIKE, Inc. \\nRevenues, respectively. \\n• NIKE Brand revenues, which represented over 90% of NIKE, Inc. Revenues, increased 10% and 16% on a reported and \\ncurrency-neutral basis, respectively. This increase was primarily due to higher revenues in Men\\'s, the Jordan Brand, \\nWomen\\'s and Kids\\' which grew 17%, 35%,11% and 10%, respectively, on a wholesale equivalent basis.')],\n",
       " 'answer': \"Nike's revenue in fiscal year 2023 was $51.2 billion.\"}"
      ]
     },
     "execution_count": 7,
     "metadata": {},
     "output_type": "execute_result"
    }
   ],
   "source": [
    "from langchain.chains import create_retrieval_chain\n",
    "from langchain.chains.combine_documents import create_stuff_documents_chain\n",
    "from langchain_core.prompts import ChatPromptTemplate\n",
    "\n",
    "system_prompt = (\n",
    "    \"You are an assistant for question-answering tasks. \"\n",
    "    \"Use the following pieces of retrieved context to answer \"\n",
    "    \"the question. If you don't know the answer, say that you \"\n",
    "    \"don't know. Use three sentences maximum and keep the \"\n",
    "    \"answer concise.\"\n",
    "    \"\\n\\n\"\n",
    "    \"{context}\"\n",
    ")\n",
    "\n",
    "prompt = ChatPromptTemplate.from_messages(\n",
    "    [\n",
    "        (\"system\", system_prompt),\n",
    "        (\"human\", \"{input}\"),\n",
    "    ]\n",
    ")\n",
    "\n",
    "\n",
    "question_answer_chain = create_stuff_documents_chain(llm, prompt)\n",
    "rag_chain = create_retrieval_chain(retriever, question_answer_chain)\n",
    "\n",
    "results = rag_chain.invoke({\"input\": \"What was Nike's revenue in 2023?\"})\n",
    "\n",
    "results"
   ]
  },
  {
   "cell_type": "code",
   "execution_count": 8,
   "metadata": {},
   "outputs": [
    {
     "name": "stdout",
     "output_type": "stream",
     "text": [
      "YEAR ENDED MAY 31,\n",
      "(Dollars in millions) 2023 2022 2021\n",
      "REVENUES\n",
      "North America $ 21,608 $ 18,353 $ 17,179 \n",
      "Europe, Middle East & Africa  13,418  12,479  11,456 \n",
      "Greater China  7,248  7,547  8,290 \n",
      "Asia Pacific & Latin America  6,431  5,955  5,343 \n",
      "Global Brand Divisions  58  102  25 \n",
      "Total NIKE Brand  48,763  44,436  42,293 \n",
      "Converse  2,427  2,346  2,205 \n",
      "Corporate  27  (72)  40 \n",
      "TOTAL NIKE, INC. REVENUES $ 51,217 $ 46,710 $ 44,538 \n",
      "EARNINGS BEFORE INTEREST AND TAXES\n",
      "North America $ 5,454 $ 5,114 $ 5,089 \n",
      "Europe, Middle East & Africa  3,531  3,293  2,435 \n",
      "Greater China  2,283  2,365  3,243 \n",
      "Asia Pacific & Latin America  1,932  1,896  1,530 \n",
      "Global Brand Divisions  (4,841)  (4,262)  (3,656) \n",
      "Converse  676  669  543 \n",
      "Corporate  (2,840)  (2,219)  (2,261) \n",
      "Interest expense (income), net  (6)  205  262 \n",
      "TOTAL NIKE, INC. INCOME BEFORE INCOME TAXES $ 6,201 $ 6,651 $ 6,661 \n",
      "ADDITIONS TO PROPERTY, PLANT AND EQUIPMENT\n",
      "North America $ 283 $ 146 $ 98 \n",
      "Europe, Middle East & Africa  215  197  153\n"
     ]
    }
   ],
   "source": [
    "print(results[\"context\"][0].page_content)"
   ]
  },
  {
   "cell_type": "code",
   "execution_count": 9,
   "metadata": {},
   "outputs": [
    {
     "name": "stdout",
     "output_type": "stream",
     "text": [
      "{'source': '../414759-1-_5_Nike-NPS-Combo_Form-10-K_WR.pdf', 'page': 89}\n"
     ]
    }
   ],
   "source": [
    "print(results[\"context\"][0].metadata)"
   ]
  }
 ],
 "metadata": {
  "kernelspec": {
   "display_name": "langchain",
   "language": "python",
   "name": "python3"
  },
  "language_info": {
   "codemirror_mode": {
    "name": "ipython",
    "version": 3
   },
   "file_extension": ".py",
   "mimetype": "text/x-python",
   "name": "python",
   "nbconvert_exporter": "python",
   "pygments_lexer": "ipython3",
   "version": "3.11.10"
  }
 },
 "nbformat": 4,
 "nbformat_minor": 2
}
