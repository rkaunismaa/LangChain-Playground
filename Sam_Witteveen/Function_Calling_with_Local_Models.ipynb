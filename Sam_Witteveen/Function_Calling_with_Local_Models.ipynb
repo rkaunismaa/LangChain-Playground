{
 "cells": [
  {
   "cell_type": "markdown",
   "metadata": {},
   "source": [
    "#### Thursday, May 9, 2024\n",
    "\n",
    "<strike>mamba activate langchain3</strike>\n",
    "\n",
    "mamba activate langchain4\n",
    "\n",
    "This notebook was created from the code demonstrated from the Sam Witteveen video [Function Calling with Local Models & LangChain - Ollama, Llama3 & Phi-3](https://www.youtube.com/watch?v=Ss_GdU0KqE0)\n",
    "\n",
    "This code is found in the repo [samwit/agent_tutorials](https://github.com/samwit/agent_tutorials/tree/main/ollama_agents/llama3_local) and is not in notebooks, but individual python files.\n",
    "\n",
    "To run this notebook, I cloned langchain3 to langchain4, then on langchain4 ran ..\n",
    "\n",
    "* pip uninstall langchain-experimental\n",
    "* pip install langchain-experimental\n",
    "\n",
    "This resulted in the following changes ...\n",
    "\n",
    "    Installing collected packages: langchain-core, langchain-community, langchain, langchain-experimental\n",
    "    Attempting uninstall: langchain-core\n",
    "        Found existing installation: langchain-core 0.1.46\n",
    "        Uninstalling langchain-core-0.1.46:\n",
    "        Successfully uninstalled langchain-core-0.1.46\n",
    "    Attempting uninstall: langchain-community\n",
    "        Found existing installation: langchain-community 0.0.32\n",
    "        Uninstalling langchain-community-0.0.32:\n",
    "        Successfully uninstalled langchain-community-0.0.32\n",
    "    Attempting uninstall: langchain\n",
    "        Found existing installation: langchain 0.1.15\n",
    "        Uninstalling langchain-0.1.15:\n",
    "        Successfully uninstalled langchain-0.1.15\n",
    "    Successfully installed langchain-0.1.19 langchain-community-0.0.38 langchain-core-0.1.52 langchain-experimental-0.0.58\n",
    "\n",
    "I did this because of weird errors when it ran \n"
   ]
  },
  {
   "cell_type": "markdown",
   "metadata": {},
   "source": [
    "ollama_agents/llama3_local/testing_ollama.py"
   ]
  },
  {
   "cell_type": "code",
   "execution_count": 1,
   "metadata": {},
   "outputs": [],
   "source": [
    "from langchain_community.chat_models import ChatOllama\n",
    "from langchain_core.output_parsers import StrOutputParser\n",
    "from langchain_core.prompts import ChatPromptTemplate"
   ]
  },
  {
   "cell_type": "code",
   "execution_count": 2,
   "metadata": {},
   "outputs": [],
   "source": [
    "# Local Llama3 \n",
    "llm = ChatOllama(\n",
    "    model=\"llama3\",\n",
    "    keep_alive=-1, # keep the model loaded indefinitely\n",
    "    temperature=0,\n",
    "    max_new_tokens=512)"
   ]
  },
  {
   "cell_type": "code",
   "execution_count": 3,
   "metadata": {},
   "outputs": [],
   "source": [
    "prompt = ChatPromptTemplate.from_template(\"Write me a 500 word article on {topic} from the perspective of a {profession}. \")"
   ]
  },
  {
   "cell_type": "code",
   "execution_count": 4,
   "metadata": {},
   "outputs": [],
   "source": [
    "# using LangChain Expressive Language chain syntax\n",
    "chain = prompt | llm | StrOutputParser()"
   ]
  },
  {
   "cell_type": "code",
   "execution_count": 5,
   "metadata": {},
   "outputs": [
    {
     "name": "stdout",
     "output_type": "stream",
     "text": [
      "**\"LLMs: The Game-Changers for Shipping Magnates Like Me\"**\n",
      "\n",
      "As a shipping magnate, I've spent my fair share of time navigating the complexities of global trade and commerce. From managing fleets of vessels to negotiating with ports and customs officials, it's a never-ending battle to stay ahead of the curve. But in recent years, I've noticed a new player on the field that has the potential to revolutionize our industry: Large Language Models (LLMs).\n",
      "\n",
      "At first, I was skeptical about these AI-powered language processing machines. What could they possibly do for me? But as I delved deeper into their capabilities, I realized that LLMs have the power to transform the way we operate in shipping.\n",
      "\n",
      "First and foremost, LLMs can help us streamline our communication processes. Gone are the days of tedious email exchanges and phone calls with customs officials, ports, and other stakeholders. With an LLM-powered chatbot, we can automate these interactions, reducing errors and increasing efficiency by a significant margin. No more misinterpreted instructions or lost documents – it's all about clarity and precision.\n",
      "\n",
      "But that's just the tip of the iceberg. LLMs can also help us optimize our logistics operations. By analyzing vast amounts of data on shipping patterns, traffic congestion, and weather conditions, these AI models can predict with uncanny accuracy when and where delays are likely to occur. This allows us to proactively adjust our routes, schedules, and cargo allocations, minimizing the risk of costly disruptions.\n",
      "\n",
      "And let's not forget about the power of predictive analytics. LLMs can analyze historical data on market trends, demand patterns, and supply chain dynamics to forecast future developments with remarkable accuracy. This enables us to make informed decisions about capacity planning, route optimization, and inventory management – all crucial components in our quest for operational excellence.\n",
      "\n",
      "But what really gets my attention is the potential for LLMs to revolutionize our customer service experience. Imagine being able to provide personalized support to our clients through AI-powered chatbots that understand their specific needs and preferences. No more tedious phone calls or email exchanges; just seamless, intuitive interactions that leave a lasting impression on our customers.\n",
      "\n",
      "Of course, there are also the obvious benefits of cost savings and increased productivity. By automating routine tasks and freeing up human resources for higher-value activities, we can reduce our operational expenses and focus on what really matters – growing our business and delivering exceptional service to our clients.\n",
      "\n",
      "As I look to the future, I'm excited about the possibilities that LLMs bring to the shipping industry. It's not just about technology for its own sake; it's about using AI to augment human capabilities, drive innovation, and create new opportunities for growth and success.\n",
      "\n",
      "In conclusion, Large Language Models are more than just a passing fad – they're game-changers for shipping magnates like me. By embracing these powerful tools, we can transform our operations, improve our customer service, and stay ahead of the curve in an increasingly competitive market. So, if you'll excuse me, I have some LLMs to deploy...\n"
     ]
    }
   ],
   "source": [
    "# This will generated the entire chain and then print the result\n",
    "print(chain.invoke({\"topic\": \"LLMs\", \"profession\": \"shipping magnate\"}))\n",
    "\n",
    "# 7.1s"
   ]
  },
  {
   "cell_type": "code",
   "execution_count": 6,
   "metadata": {},
   "outputs": [
    {
     "name": "stdout",
     "output_type": "stream",
     "text": [
      "**\"LLMs: The Game-Changers for Shipping Magnates Like Me\"**\n",
      "\n",
      "As a shipping magnate, I've spent my fair share of time navigating the complexities of global trade and commerce. From managing fleets of vessels to negotiating with ports and customs officials, there's no shortage of challenges in this industry. But one development that has caught my attention - and potentially changed the game for me and my competitors alike - is the rise of Large Language Models (LLMs).\n",
      "\n",
      "At first glance, LLMs might seem like a distant cousin to the world of shipping. After all, they're AI-powered language processing systems designed to analyze and generate human-like text. But trust me, their impact on our industry has been nothing short of profound.\n",
      "\n",
      "Let's start with the obvious: data analysis. As a shipping magnate, I need to stay on top of market trends, demand patterns, and supply chain disruptions. LLMs have revolutionized my ability to do just that. By processing vast amounts of text-based data - from news articles to social media posts to industry reports - these AI models can identify key insights and patterns that would take human analysts weeks or even months to uncover.\n",
      "\n",
      "For instance, I recently used an LLM to analyze a dataset of global trade news stories. In mere minutes, the model highlighted emerging trends in container shipping, such as increased demand for Asian-to-European routes and growing concerns about supply chain resilience. This information allowed me to adjust my fleet's deployment strategy, optimizing our operations to capitalize on these shifting market dynamics.\n",
      "\n",
      "Another area where LLMs have made a significant difference is in customer service. As the world becomes increasingly digital, customers expect seamless interactions with companies - including shipping lines like mine. By integrating an LLM into our customer support system, we've been able to provide faster, more accurate responses to queries and concerns. This has not only improved customer satisfaction but also reduced the workload for our human customer service reps.\n",
      "\n",
      "But perhaps the most exciting application of LLMs in shipping is in predictive analytics. Imagine being able to forecast with high accuracy when a particular route will experience congestion or when a specific commodity's demand will surge. That's exactly what these AI models can do, by analyzing historical data and identifying patterns that might not be immediately apparent to human analysts.\n",
      "\n",
      "For example, I used an LLM to predict the likelihood of a certain container ship route experiencing delays due to weather-related issues. The model analyzed historical data on storms in the region, combined with real-time weather forecasts, to provide me with a probability score indicating the likelihood of delays. This allowed me to proactively adjust our scheduling and logistics to minimize disruptions.\n",
      "\n",
      "Of course, there are also concerns about the potential impact of LLMs on human jobs in the shipping industry. As AI takes over more routine tasks, some worry that it will displace workers. While this is a valid concern, I believe that LLMs will ultimately augment human capabilities rather than replace them. By freeing up our employees to focus on higher-value tasks like strategy and decision-making, we can actually improve overall efficiency and productivity.\n",
      "\n",
      "In conclusion, Large Language Models have the potential to revolutionize the shipping industry in ways both big and small. From data analysis to customer service to predictive analytics, these AI-powered tools are already making a significant impact on my business - and I'm confident they will continue to do so as they evolve and improve. As a shipping magnate, I'm excited to see how LLMs will shape the future of our industry, and I'm committed to staying at the forefront of this technological revolution."
     ]
    }
   ],
   "source": [
    "# Running it this way will stream the output to the console a token at a time.\n",
    "for chunk in chain.stream({\"topic\": \"LLMs\", \"profession\": \"shipping magnate\"}):\n",
    "    print(chunk, end=\"\", flush=True)\n",
    "\n",
    "# 11.6s"
   ]
  },
  {
   "cell_type": "markdown",
   "metadata": {},
   "source": [
    "Output the result of the function call in JSON.\n",
    "\n",
    "ollama_agents/llama3_local/llama3_json.py"
   ]
  },
  {
   "cell_type": "code",
   "execution_count": 7,
   "metadata": {},
   "outputs": [],
   "source": [
    "import json\n",
    "from langchain_community.chat_models import ChatOllama\n",
    "from langchain_core.messages import HumanMessage\n",
    "from langchain_core.output_parsers import StrOutputParser, JsonOutputParser\n",
    "from langchain_core.prompts import ChatPromptTemplate"
   ]
  },
  {
   "cell_type": "code",
   "execution_count": 8,
   "metadata": {},
   "outputs": [],
   "source": [
    "json_schema = {\n",
    "    \"title\": \"Person\",\n",
    "    \"description\": \"Identifying information about a person.\",\n",
    "    \"type\": \"object\",\n",
    "    \"properties\": {\n",
    "        \"name\": {\"title\": \"Name\", \"description\": \"The person's name\", \"type\": \"string\"},\n",
    "        \"age\": {\"title\": \"Age\", \"description\": \"The person's age\", \"type\": \"integer\"},\n",
    "        \"favorite_food\": {\n",
    "            \"title\": \"Fav Food\",\n",
    "            \"description\": \"The person's favorite food\",\n",
    "            \"type\": \"string\",\n",
    "        },\n",
    "    },\n",
    "    \"required\": [\"name\", \"age\",\"fav_food\"],\n",
    "}\n"
   ]
  },
  {
   "cell_type": "code",
   "execution_count": 9,
   "metadata": {},
   "outputs": [],
   "source": [
    "llm = ChatOllama(\n",
    "    model=\"llama3\",\n",
    "    format=\"json\", # we need to set the output format to json\n",
    "    keep_alive=-1, # keep the model loaded indefinitely\n",
    "    temperature=0.1,\n",
    "    max_new_tokens=512\n",
    "    )"
   ]
  },
  {
   "cell_type": "code",
   "execution_count": 10,
   "metadata": {},
   "outputs": [],
   "source": [
    "messages = [\n",
    "    HumanMessage(\n",
    "        content=\"Please tell me about a person using the following JSON schema:\"\n",
    "    ),\n",
    "    HumanMessage(content=\"{schema}\"),\n",
    "    HumanMessage(\n",
    "        content=\"Now, considering the schema, tell me about a person named John who is 35 years old and loves pizza.\"\n",
    "    ),\n",
    "]\n"
   ]
  },
  {
   "cell_type": "code",
   "execution_count": 11,
   "metadata": {},
   "outputs": [],
   "source": [
    "prompt = ChatPromptTemplate.from_messages(messages)"
   ]
  },
  {
   "cell_type": "code",
   "execution_count": 12,
   "metadata": {},
   "outputs": [],
   "source": [
    "#converting the json schema to a string\n",
    "dumps = json.dumps(json_schema, indent=2)"
   ]
  },
  {
   "cell_type": "code",
   "execution_count": 13,
   "metadata": {},
   "outputs": [],
   "source": [
    "# chain = prompt | llm | StrOutputParser()\n",
    "chain = prompt | llm | JsonOutputParser()"
   ]
  },
  {
   "cell_type": "code",
   "execution_count": 14,
   "metadata": {},
   "outputs": [
    {
     "name": "stdout",
     "output_type": "stream",
     "text": [
      "{'name': 'John', 'age': 35, 'hobbies': ['pizza']}\n",
      "<class 'dict'>\n"
     ]
    }
   ],
   "source": [
    "response = chain.invoke({\"schema\": dumps})\n",
    "print(response)\n",
    "print(type(response))\n",
    "\n",
    "# 3.1s"
   ]
  },
  {
   "cell_type": "markdown",
   "metadata": {},
   "source": [
    "Notice the different response we get if we change from a JsonOutputParser() to a StrOutputParser."
   ]
  },
  {
   "cell_type": "code",
   "execution_count": 15,
   "metadata": {},
   "outputs": [
    {
     "name": "stdout",
     "output_type": "stream",
     "text": [
      "{\"name\": \"John\", \"age\": 35, \"hobbies\": [\"pizza\"]}\n",
      "\n",
      "\n",
      "<class 'str'>\n"
     ]
    }
   ],
   "source": [
    "chain = prompt | llm | StrOutputParser()\n",
    "response = chain.invoke({\"schema\": dumps})\n",
    "print(response)\n",
    "print(type(response))\n",
    "\n",
    "# notice all the white space following the {\"name\": \"John\", \"age\": 35, \"hobbies\": [\"pizza\"]} ..."
   ]
  },
  {
   "cell_type": "markdown",
   "metadata": {},
   "source": [
    "So generally you want to stick with using the JsonOutputParser() rather than the StrOutputParser()."
   ]
  },
  {
   "cell_type": "markdown",
   "metadata": {},
   "source": [
    "ollama_agents/llama3_local/llama3_ollama_structured_output.py"
   ]
  },
  {
   "cell_type": "code",
   "execution_count": 16,
   "metadata": {},
   "outputs": [],
   "source": [
    "from langchain_core.prompts import PromptTemplate\n",
    "from langchain_core.pydantic_v1 import BaseModel, Field\n",
    "from langchain_experimental.llms.ollama_functions import OllamaFunctions"
   ]
  },
  {
   "cell_type": "code",
   "execution_count": 17,
   "metadata": {},
   "outputs": [],
   "source": [
    "# Pydantic Schema for structured response\n",
    "class Person(BaseModel):\n",
    "    name: str = Field(description=\"The person's name\", required=True)\n",
    "    height: float = Field(description=\"The person's height\", required=True)\n",
    "    hair_color: str = Field(description=\"The person's hair color\")"
   ]
  },
  {
   "cell_type": "code",
   "execution_count": 18,
   "metadata": {},
   "outputs": [],
   "source": [
    "context = \"\"\"Alex is 5 feet tall. \n",
    "Claudia is 1 feet taller than Alex and jumps higher than him. \n",
    "Claudia is a brunette and Alex is blonde.\"\"\""
   ]
  },
  {
   "cell_type": "code",
   "execution_count": 19,
   "metadata": {},
   "outputs": [],
   "source": [
    "# Prompt template llama3\n",
    "prompt = PromptTemplate.from_template(\n",
    "    \"\"\"<|begin_of_text|><|start_header_id|>system<|end_header_id|>\n",
    "    You are a smart assistant take the following context and question below and return your answer in JSON.\n",
    "    <|eot_id|><|start_header_id|>user<|end_header_id|>\n",
    "QUESTION: {question} \\n\n",
    "CONTEXT: {context} \\n\n",
    "JSON:\n",
    "<|eot_id|>\n",
    "<|start_header_id|>assistant<|end_header_id|>\n",
    " \"\"\"\n",
    ")"
   ]
  },
  {
   "cell_type": "code",
   "execution_count": 20,
   "metadata": {},
   "outputs": [],
   "source": [
    "# Chain\n",
    "llm = OllamaFunctions(model=\"llama3\", \n",
    "                      format=\"json\", \n",
    "                      temperature=0)"
   ]
  },
  {
   "cell_type": "code",
   "execution_count": 21,
   "metadata": {},
   "outputs": [],
   "source": [
    "structured_llm = llm.with_structured_output(Person)\n",
    "chain = prompt | structured_llm"
   ]
  },
  {
   "cell_type": "code",
   "execution_count": 24,
   "metadata": {},
   "outputs": [
    {
     "name": "stdout",
     "output_type": "stream",
     "text": [
      "name='Alex' height=5.0 hair_color='blonde'\n"
     ]
    }
   ],
   "source": [
    "response = chain.invoke({\n",
    "    \"question\": \"Who is taller?\",\n",
    "    \"context\": context\n",
    "    })\n",
    "\n",
    "print(response)\n",
    "\n",
    "# notice this answer is wrong!"
   ]
  },
  {
   "cell_type": "code",
   "execution_count": 23,
   "metadata": {},
   "outputs": [
    {
     "name": "stdout",
     "output_type": "stream",
     "text": [
      "name='' height=6.0 hair_color=''\n"
     ]
    }
   ],
   "source": [
    "response = chain.invoke({\n",
    "    \"question\": \"Who is taller, Claudia or Alex?\",\n",
    "    \"context\": context\n",
    "    })\n",
    "\n",
    "print(response)"
   ]
  }
 ],
 "metadata": {
  "kernelspec": {
   "display_name": "langchain3",
   "language": "python",
   "name": "python3"
  },
  "language_info": {
   "codemirror_mode": {
    "name": "ipython",
    "version": 3
   },
   "file_extension": ".py",
   "mimetype": "text/x-python",
   "name": "python",
   "nbconvert_exporter": "python",
   "pygments_lexer": "ipython3",
   "version": "3.11.8"
  }
 },
 "nbformat": 4,
 "nbformat_minor": 2
}
